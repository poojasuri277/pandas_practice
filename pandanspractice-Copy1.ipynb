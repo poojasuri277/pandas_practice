{
 "cells": [
  {
   "cell_type": "code",
   "execution_count": 1,
   "id": "99468add",
   "metadata": {},
   "outputs": [
    {
     "name": "stdout",
     "output_type": "stream",
     "text": [
      "Requirement already satisfied: pandas in c:\\users\\pooja\\miniconda3\\lib\\site-packages (2.1.3)\n",
      "Requirement already satisfied: numpy<2,>=1.23.2 in c:\\users\\pooja\\miniconda3\\lib\\site-packages (from pandas) (1.26.0)\n",
      "Requirement already satisfied: python-dateutil>=2.8.2 in c:\\users\\pooja\\miniconda3\\lib\\site-packages (from pandas) (2.8.2)\n",
      "Requirement already satisfied: pytz>=2020.1 in c:\\users\\pooja\\miniconda3\\lib\\site-packages (from pandas) (2023.3.post1)\n",
      "Requirement already satisfied: tzdata>=2022.1 in c:\\users\\pooja\\miniconda3\\lib\\site-packages (from pandas) (2023.3)\n",
      "Requirement already satisfied: six>=1.5 in c:\\users\\pooja\\miniconda3\\lib\\site-packages (from python-dateutil>=2.8.2->pandas) (1.16.0)\n",
      "Note: you may need to restart the kernel to use updated packages.\n"
     ]
    }
   ],
   "source": [
    "pip install pandas\n"
   ]
  },
  {
   "cell_type": "code",
   "execution_count": 5,
   "id": "dffa3c44",
   "metadata": {},
   "outputs": [
    {
     "data": {
      "text/html": [
       "<div>\n",
       "<style scoped>\n",
       "    .dataframe tbody tr th:only-of-type {\n",
       "        vertical-align: middle;\n",
       "    }\n",
       "\n",
       "    .dataframe tbody tr th {\n",
       "        vertical-align: top;\n",
       "    }\n",
       "\n",
       "    .dataframe thead th {\n",
       "        text-align: right;\n",
       "    }\n",
       "</style>\n",
       "<table border=\"1\" class=\"dataframe\">\n",
       "  <thead>\n",
       "    <tr style=\"text-align: right;\">\n",
       "      <th></th>\n",
       "      <th>name</th>\n",
       "      <th>age</th>\n",
       "      <th>salary</th>\n",
       "    </tr>\n",
       "  </thead>\n",
       "  <tbody>\n",
       "    <tr>\n",
       "      <th>0</th>\n",
       "      <td>john</td>\n",
       "      <td>25</td>\n",
       "      <td>20000</td>\n",
       "    </tr>\n",
       "    <tr>\n",
       "      <th>1</th>\n",
       "      <td>pooja</td>\n",
       "      <td>28</td>\n",
       "      <td>30000</td>\n",
       "    </tr>\n",
       "    <tr>\n",
       "      <th>2</th>\n",
       "      <td>lisa</td>\n",
       "      <td>31</td>\n",
       "      <td>40000</td>\n",
       "    </tr>\n",
       "  </tbody>\n",
       "</table>\n",
       "</div>"
      ],
      "text/plain": [
       "    name  age  salary\n",
       "0   john   25   20000\n",
       "1  pooja   28   30000\n",
       "2   lisa   31   40000"
      ]
     },
     "execution_count": 5,
     "metadata": {},
     "output_type": "execute_result"
    }
   ],
   "source": [
    "import pandas as pd\n",
    "data ={\"name\" : [\"john\",\"pooja\",\"lisa\"],\n",
    "      \"age\":[25,28,31],\n",
    "      \"salary\": [20000,30000,40000]}\n",
    "df =pd.DataFrame(data)\n",
    "df"
   ]
  },
  {
   "cell_type": "code",
   "execution_count": 14,
   "id": "fe56211e-da6f-4cc6-8b29-04633fc78aa4",
   "metadata": {},
   "outputs": [
    {
     "data": {
      "text/html": [
       "<div>\n",
       "<style scoped>\n",
       "    .dataframe tbody tr th:only-of-type {\n",
       "        vertical-align: middle;\n",
       "    }\n",
       "\n",
       "    .dataframe tbody tr th {\n",
       "        vertical-align: top;\n",
       "    }\n",
       "\n",
       "    .dataframe thead th {\n",
       "        text-align: right;\n",
       "    }\n",
       "</style>\n",
       "<table border=\"1\" class=\"dataframe\">\n",
       "  <thead>\n",
       "    <tr style=\"text-align: right;\">\n",
       "      <th></th>\n",
       "      <th>S No</th>\n",
       "      <th>OrderID</th>\n",
       "      <th>OrderDate</th>\n",
       "      <th>DeliveryDate</th>\n",
       "      <th>Mr./Mrs.Miss</th>\n",
       "      <th>Name</th>\n",
       "      <th>Value</th>\n",
       "    </tr>\n",
       "  </thead>\n",
       "  <tbody>\n",
       "    <tr>\n",
       "      <th>0</th>\n",
       "      <td>1</td>\n",
       "      <td>10010</td>\n",
       "      <td>17-01-2023</td>\n",
       "      <td>25-01-2324</td>\n",
       "      <td>Mr.</td>\n",
       "      <td>j</td>\n",
       "      <td>Rs.900</td>\n",
       "    </tr>\n",
       "    <tr>\n",
       "      <th>1</th>\n",
       "      <td>2</td>\n",
       "      <td>10011</td>\n",
       "      <td>18-01-2023</td>\n",
       "      <td>26-01-2324</td>\n",
       "      <td>Mrs.</td>\n",
       "      <td>k</td>\n",
       "      <td>Rs.1000</td>\n",
       "    </tr>\n",
       "    <tr>\n",
       "      <th>2</th>\n",
       "      <td>3</td>\n",
       "      <td>10012</td>\n",
       "      <td>19-01-2023</td>\n",
       "      <td>27-01-2324</td>\n",
       "      <td>Mr.</td>\n",
       "      <td>l</td>\n",
       "      <td>Rs.1100</td>\n",
       "    </tr>\n",
       "    <tr>\n",
       "      <th>3</th>\n",
       "      <td>4</td>\n",
       "      <td>10013</td>\n",
       "      <td>20-01-2023</td>\n",
       "      <td>28-01-2324</td>\n",
       "      <td>Mrs.</td>\n",
       "      <td>m</td>\n",
       "      <td>Rs.1200</td>\n",
       "    </tr>\n",
       "    <tr>\n",
       "      <th>4</th>\n",
       "      <td>5</td>\n",
       "      <td>10014</td>\n",
       "      <td>21-01-2023</td>\n",
       "      <td>29-01-2324</td>\n",
       "      <td>Mr.</td>\n",
       "      <td>n</td>\n",
       "      <td>Rs.1300</td>\n",
       "    </tr>\n",
       "    <tr>\n",
       "      <th>5</th>\n",
       "      <td>6</td>\n",
       "      <td>10015</td>\n",
       "      <td>22-01-2023</td>\n",
       "      <td>30-01-2324</td>\n",
       "      <td>Mrs.</td>\n",
       "      <td>o</td>\n",
       "      <td>Rs.1400</td>\n",
       "    </tr>\n",
       "    <tr>\n",
       "      <th>6</th>\n",
       "      <td>7</td>\n",
       "      <td>10016</td>\n",
       "      <td>23-01-2023</td>\n",
       "      <td>31-01-2324</td>\n",
       "      <td>Mr.</td>\n",
       "      <td>p</td>\n",
       "      <td>Rs.1500</td>\n",
       "    </tr>\n",
       "    <tr>\n",
       "      <th>7</th>\n",
       "      <td>8</td>\n",
       "      <td>xxxx</td>\n",
       "      <td>24-01-2023</td>\n",
       "      <td>01-02-2324</td>\n",
       "      <td>Mrs.</td>\n",
       "      <td>q</td>\n",
       "      <td>Rs.1600</td>\n",
       "    </tr>\n",
       "    <tr>\n",
       "      <th>8</th>\n",
       "      <td>9</td>\n",
       "      <td>10018</td>\n",
       "      <td>25-01-2023</td>\n",
       "      <td>02-02-2324</td>\n",
       "      <td>Mr.</td>\n",
       "      <td>r</td>\n",
       "      <td>Rs.1700</td>\n",
       "    </tr>\n",
       "  </tbody>\n",
       "</table>\n",
       "</div>"
      ],
      "text/plain": [
       "   S No OrderID   OrderDate DeliveryDate Mr./Mrs.Miss Name    Value\n",
       "0     1   10010  17-01-2023   25-01-2324          Mr.    j   Rs.900\n",
       "1     2   10011  18-01-2023   26-01-2324         Mrs.    k  Rs.1000\n",
       "2     3   10012  19-01-2023   27-01-2324          Mr.    l  Rs.1100\n",
       "3     4   10013  20-01-2023   28-01-2324         Mrs.    m  Rs.1200\n",
       "4     5   10014  21-01-2023   29-01-2324          Mr.    n  Rs.1300\n",
       "5     6   10015  22-01-2023   30-01-2324         Mrs.    o  Rs.1400\n",
       "6     7   10016  23-01-2023   31-01-2324          Mr.    p  Rs.1500\n",
       "7     8    xxxx  24-01-2023   01-02-2324         Mrs.    q  Rs.1600\n",
       "8     9   10018  25-01-2023   02-02-2324          Mr.    r  Rs.1700"
      ]
     },
     "execution_count": 14,
     "metadata": {},
     "output_type": "execute_result"
    }
   ],
   "source": [
    "data = pd.read_csv(\"C:/Users/Pooja/OneDrive/Desktop/opju/csv.csv\")\n",
    "data"
   ]
  },
  {
   "cell_type": "code",
   "execution_count": null,
   "id": "c74164fd-91ca-46d7-a979-a37d67f48eb5",
   "metadata": {},
   "outputs": [],
   "source": [
    "# exploring data in pandas \n"
   ]
  },
  {
   "cell_type": "code",
   "execution_count": 22,
   "id": "4ab73e0d-a0c5-40e4-acd9-4814273589bd",
   "metadata": {},
   "outputs": [
    {
     "name": "stdout",
     "output_type": "stream",
     "text": [
      "     EEID        Full Name                 Job Title  Department  \\\n",
      "0  E02387      Emily Davis                Sr. Manger          IT   \n",
      "1  E04105    Theodore Dinh       Technical Architect          IT   \n",
      "2  E02572     Luna Sanders                  Director     Finance   \n",
      "3  E02832  Penelope Jordan  Computer Systems Manager          IT   \n",
      "4  E01639        Austin Vo               Sr. Analyst     Finance   \n",
      "5  E00644     Joshua Gupta    Account Representative       Sales   \n",
      "6  E01550      Ruby Barnes                   Manager          IT   \n",
      "7  E04332      Luke Martin                   Analyst     Finance   \n",
      "8  E04533    Easton Bailey                   Manager  Accounting   \n",
      "9  E03838  Madeline Walker               Sr. Analyst     Finance   \n",
      "\n",
      "            Business Unit  Gender  Ethnicity  Age  Hire Date  Annual Salary  \\\n",
      "0  Research & Development  Female      Black   55 2016-04-08         141604   \n",
      "1           Manufacturing    Male      Asian   59 1997-11-29          99975   \n",
      "2     Speciality Products  Female  Caucasian   50 2006-10-26         163099   \n",
      "3           Manufacturing  Female  Caucasian   26 2019-09-27          84913   \n",
      "4           Manufacturing    Male      Asian   55 1995-11-20          95409   \n",
      "5               Corporate    Male      Asian   57 2017-01-24          50994   \n",
      "6               Corporate  Female  Caucasian   27 2020-07-01         119746   \n",
      "7           Manufacturing    Male      Black   25 2020-05-16          41336   \n",
      "8           Manufacturing    Male  Caucasian   29 2019-01-25         113527   \n",
      "9     Speciality Products  Female  Caucasian   34 2018-06-13          77203   \n",
      "\n",
      "   Bonus %        Country       City  Exit Date  \n",
      "0     0.15  United States    Seattle 2021-10-16  \n",
      "1     0.00          China  Chongqing        NaT  \n",
      "2     0.20  United States    Chicago        NaT  \n",
      "3     0.07  United States    Chicago        NaT  \n",
      "4     0.00  United States    Phoenix        NaT  \n",
      "5     0.00          China  Chongqing        NaT  \n",
      "6     0.10  United States    Phoenix        NaT  \n",
      "7     0.00  United States      Miami 2021-05-20  \n",
      "8     0.06  United States     Austin        NaT  \n",
      "9     0.00  United States    Chicago        NaT  \n",
      "       EEID          Full Name             Job Title       Department  \\\n",
      "990  E01578       Anthony Hong            Sr. Manger               IT   \n",
      "991  E03430        Leo Herrera  Sr. Business Partner  Human Resources   \n",
      "992  E03058      Robert Wright   Technical Architect               IT   \n",
      "993  E04762  Audrey Richardson              Director               IT   \n",
      "994  E01148     Scarlett Kumar       Systems Analyst               IT   \n",
      "995  E03094       Wesley Young           Sr. Analyst        Marketing   \n",
      "996  E01909       Lillian Khan               Analyst          Finance   \n",
      "997  E04398        Oliver Yang              Director        Marketing   \n",
      "998  E02521        Lily Nguyen           Sr. Analyst          Finance   \n",
      "999  E03545        Sofia Cheng        Vice President       Accounting   \n",
      "\n",
      "              Business Unit  Gender  Ethnicity  Age  Hire Date  Annual Salary  \\\n",
      "990  Research & Development    Male      Asian   37 2010-11-29         146961   \n",
      "991  Research & Development    Male     Latino   48 1998-04-22          85369   \n",
      "992           Manufacturing    Male  Caucasian   30 2015-06-14          67489   \n",
      "993           Manufacturing  Female  Caucasian   46 2018-10-06         166259   \n",
      "994               Corporate  Female      Asian   55 2009-01-07          47032   \n",
      "995     Speciality Products    Male  Caucasian   33 2016-09-18          98427   \n",
      "996     Speciality Products  Female      Asian   44 2010-05-31          47387   \n",
      "997     Speciality Products    Male      Asian   31 2019-06-10         176710   \n",
      "998     Speciality Products  Female      Asian   33 2012-01-28          95960   \n",
      "999               Corporate  Female      Asian   63 2020-07-26         216195   \n",
      "\n",
      "     Bonus %        Country      City  Exit Date  \n",
      "990     0.11  United States  Columbus        NaT  \n",
      "991     0.00         Brazil    Manaus 2004-11-27  \n",
      "992     0.00  United States   Chicago        NaT  \n",
      "993     0.17  United States   Chicago        NaT  \n",
      "994     0.00  United States  Columbus        NaT  \n",
      "995     0.00  United States  Columbus        NaT  \n",
      "996     0.00          China   Chengdu 2018-01-08  \n",
      "997     0.15  United States     Miami        NaT  \n",
      "998     0.00          China   Chengdu        NaT  \n",
      "999     0.31  United States     Miami        NaT  \n"
     ]
    }
   ],
   "source": [
    "data= pd.read_excel(\"C:/Users/Pooja/Downloads/ESD.xlsx\")\n",
    "data\n",
    "print(data.head(10))\n",
    "print(data.tail(10))"
   ]
  },
  {
   "cell_type": "code",
   "execution_count": 24,
   "id": "0123f2ae-b6e6-4fa0-b827-ca41c13fb6af",
   "metadata": {},
   "outputs": [
    {
     "name": "stdout",
     "output_type": "stream",
     "text": [
      "<class 'pandas.core.frame.DataFrame'>\n",
      "RangeIndex: 1000 entries, 0 to 999\n",
      "Data columns (total 14 columns):\n",
      " #   Column         Non-Null Count  Dtype         \n",
      "---  ------         --------------  -----         \n",
      " 0   EEID           1000 non-null   object        \n",
      " 1   Full Name      1000 non-null   object        \n",
      " 2   Job Title      1000 non-null   object        \n",
      " 3   Department     1000 non-null   object        \n",
      " 4   Business Unit  1000 non-null   object        \n",
      " 5   Gender         1000 non-null   object        \n",
      " 6   Ethnicity      1000 non-null   object        \n",
      " 7   Age            1000 non-null   int64         \n",
      " 8   Hire Date      1000 non-null   datetime64[ns]\n",
      " 9   Annual Salary  1000 non-null   int64         \n",
      " 10  Bonus %        1000 non-null   float64       \n",
      " 11  Country        1000 non-null   object        \n",
      " 12  City           1000 non-null   object        \n",
      " 13  Exit Date      85 non-null     datetime64[ns]\n",
      "dtypes: datetime64[ns](2), float64(1), int64(2), object(9)\n",
      "memory usage: 109.5+ KB\n",
      "None\n"
     ]
    }
   ],
   "source": [
    "print(data.info())"
   ]
  },
  {
   "cell_type": "code",
   "execution_count": 25,
   "id": "b71a0161-e82c-48cc-87f7-a81a5b6fb660",
   "metadata": {},
   "outputs": [
    {
     "data": {
      "text/html": [
       "<div>\n",
       "<style scoped>\n",
       "    .dataframe tbody tr th:only-of-type {\n",
       "        vertical-align: middle;\n",
       "    }\n",
       "\n",
       "    .dataframe tbody tr th {\n",
       "        vertical-align: top;\n",
       "    }\n",
       "\n",
       "    .dataframe thead th {\n",
       "        text-align: right;\n",
       "    }\n",
       "</style>\n",
       "<table border=\"1\" class=\"dataframe\">\n",
       "  <thead>\n",
       "    <tr style=\"text-align: right;\">\n",
       "      <th></th>\n",
       "      <th>Age</th>\n",
       "      <th>Hire Date</th>\n",
       "      <th>Annual Salary</th>\n",
       "      <th>Bonus %</th>\n",
       "      <th>Exit Date</th>\n",
       "    </tr>\n",
       "  </thead>\n",
       "  <tbody>\n",
       "    <tr>\n",
       "      <th>count</th>\n",
       "      <td>1000.000000</td>\n",
       "      <td>1000</td>\n",
       "      <td>1000.000000</td>\n",
       "      <td>1000.000000</td>\n",
       "      <td>85</td>\n",
       "    </tr>\n",
       "    <tr>\n",
       "      <th>mean</th>\n",
       "      <td>44.382000</td>\n",
       "      <td>2012-04-07 02:54:14.400000</td>\n",
       "      <td>113217.365000</td>\n",
       "      <td>0.088660</td>\n",
       "      <td>2016-11-02 18:04:14.117647104</td>\n",
       "    </tr>\n",
       "    <tr>\n",
       "      <th>min</th>\n",
       "      <td>25.000000</td>\n",
       "      <td>1992-01-09 00:00:00</td>\n",
       "      <td>40063.000000</td>\n",
       "      <td>0.000000</td>\n",
       "      <td>1994-12-18 00:00:00</td>\n",
       "    </tr>\n",
       "    <tr>\n",
       "      <th>25%</th>\n",
       "      <td>35.000000</td>\n",
       "      <td>2007-02-14 00:00:00</td>\n",
       "      <td>71430.250000</td>\n",
       "      <td>0.000000</td>\n",
       "      <td>2014-12-25 00:00:00</td>\n",
       "    </tr>\n",
       "    <tr>\n",
       "      <th>50%</th>\n",
       "      <td>45.000000</td>\n",
       "      <td>2014-02-15 12:00:00</td>\n",
       "      <td>96557.000000</td>\n",
       "      <td>0.000000</td>\n",
       "      <td>2019-05-23 00:00:00</td>\n",
       "    </tr>\n",
       "    <tr>\n",
       "      <th>75%</th>\n",
       "      <td>54.000000</td>\n",
       "      <td>2018-06-22 00:00:00</td>\n",
       "      <td>150782.250000</td>\n",
       "      <td>0.150000</td>\n",
       "      <td>2021-04-09 00:00:00</td>\n",
       "    </tr>\n",
       "    <tr>\n",
       "      <th>max</th>\n",
       "      <td>65.000000</td>\n",
       "      <td>2021-12-26 00:00:00</td>\n",
       "      <td>258498.000000</td>\n",
       "      <td>0.400000</td>\n",
       "      <td>2022-08-17 00:00:00</td>\n",
       "    </tr>\n",
       "    <tr>\n",
       "      <th>std</th>\n",
       "      <td>11.246981</td>\n",
       "      <td>NaN</td>\n",
       "      <td>53545.985644</td>\n",
       "      <td>0.117856</td>\n",
       "      <td>NaN</td>\n",
       "    </tr>\n",
       "  </tbody>\n",
       "</table>\n",
       "</div>"
      ],
      "text/plain": [
       "               Age                   Hire Date  Annual Salary      Bonus %  \\\n",
       "count  1000.000000                        1000    1000.000000  1000.000000   \n",
       "mean     44.382000  2012-04-07 02:54:14.400000  113217.365000     0.088660   \n",
       "min      25.000000         1992-01-09 00:00:00   40063.000000     0.000000   \n",
       "25%      35.000000         2007-02-14 00:00:00   71430.250000     0.000000   \n",
       "50%      45.000000         2014-02-15 12:00:00   96557.000000     0.000000   \n",
       "75%      54.000000         2018-06-22 00:00:00  150782.250000     0.150000   \n",
       "max      65.000000         2021-12-26 00:00:00  258498.000000     0.400000   \n",
       "std      11.246981                         NaN   53545.985644     0.117856   \n",
       "\n",
       "                           Exit Date  \n",
       "count                             85  \n",
       "mean   2016-11-02 18:04:14.117647104  \n",
       "min              1994-12-18 00:00:00  \n",
       "25%              2014-12-25 00:00:00  \n",
       "50%              2019-05-23 00:00:00  \n",
       "75%              2021-04-09 00:00:00  \n",
       "max              2022-08-17 00:00:00  \n",
       "std                              NaN  "
      ]
     },
     "execution_count": 25,
     "metadata": {},
     "output_type": "execute_result"
    }
   ],
   "source": [
    "data.describe()"
   ]
  },
  {
   "cell_type": "code",
   "execution_count": 27,
   "id": "628baa05-15c9-41ce-9f31-5e5a6271b80c",
   "metadata": {},
   "outputs": [
    {
     "name": "stdout",
     "output_type": "stream",
     "text": [
      "EEID               0\n",
      "Full Name          0\n",
      "Job Title          0\n",
      "Department         0\n",
      "Business Unit      0\n",
      "Gender             0\n",
      "Ethnicity          0\n",
      "Age                0\n",
      "Hire Date          0\n",
      "Annual Salary      0\n",
      "Bonus %            0\n",
      "Country            0\n",
      "City               0\n",
      "Exit Date        915\n",
      "dtype: int64\n"
     ]
    }
   ],
   "source": [
    "print (data.isnull().sum())"
   ]
  },
  {
   "cell_type": "code",
   "execution_count": null,
   "id": "9ecffb7c-7eac-437c-9464-ddf83abdfdeb",
   "metadata": {},
   "outputs": [],
   "source": [
    "##dealing with duplicate values in pandas \n"
   ]
  },
  {
   "cell_type": "code",
   "execution_count": 30,
   "id": "c6534c87-aaac-4c38-b7da-23e83f5db1c3",
   "metadata": {},
   "outputs": [
    {
     "data": {
      "text/html": [
       "<div>\n",
       "<style scoped>\n",
       "    .dataframe tbody tr th:only-of-type {\n",
       "        vertical-align: middle;\n",
       "    }\n",
       "\n",
       "    .dataframe tbody tr th {\n",
       "        vertical-align: top;\n",
       "    }\n",
       "\n",
       "    .dataframe thead th {\n",
       "        text-align: right;\n",
       "    }\n",
       "</style>\n",
       "<table border=\"1\" class=\"dataframe\">\n",
       "  <thead>\n",
       "    <tr style=\"text-align: right;\">\n",
       "      <th></th>\n",
       "      <th>EEID</th>\n",
       "      <th>Name</th>\n",
       "      <th>gender</th>\n",
       "      <th>salary</th>\n",
       "    </tr>\n",
       "  </thead>\n",
       "  <tbody>\n",
       "    <tr>\n",
       "      <th>0</th>\n",
       "      <td>EMP01</td>\n",
       "      <td>ayushi</td>\n",
       "      <td>F</td>\n",
       "      <td>NaN</td>\n",
       "    </tr>\n",
       "    <tr>\n",
       "      <th>1</th>\n",
       "      <td>EMP02</td>\n",
       "      <td>rohit</td>\n",
       "      <td>M</td>\n",
       "      <td>25000.0</td>\n",
       "    </tr>\n",
       "    <tr>\n",
       "      <th>2</th>\n",
       "      <td>EMP03</td>\n",
       "      <td>pranjali</td>\n",
       "      <td>NaN</td>\n",
       "      <td>27000.0</td>\n",
       "    </tr>\n",
       "    <tr>\n",
       "      <th>3</th>\n",
       "      <td>EMP01</td>\n",
       "      <td>ayushi</td>\n",
       "      <td>F</td>\n",
       "      <td>20000.0</td>\n",
       "    </tr>\n",
       "    <tr>\n",
       "      <th>4</th>\n",
       "      <td>EMP05</td>\n",
       "      <td>NaN</td>\n",
       "      <td>M</td>\n",
       "      <td>25000.0</td>\n",
       "    </tr>\n",
       "    <tr>\n",
       "      <th>5</th>\n",
       "      <td>EMP06</td>\n",
       "      <td>rohit</td>\n",
       "      <td>M</td>\n",
       "      <td>NaN</td>\n",
       "    </tr>\n",
       "    <tr>\n",
       "      <th>6</th>\n",
       "      <td>EMP02</td>\n",
       "      <td>rohit</td>\n",
       "      <td>M</td>\n",
       "      <td>25000.0</td>\n",
       "    </tr>\n",
       "  </tbody>\n",
       "</table>\n",
       "</div>"
      ],
      "text/plain": [
       "    EEID      Name gender   salary\n",
       "0  EMP01    ayushi      F      NaN\n",
       "1  EMP02     rohit      M  25000.0\n",
       "2  EMP03  pranjali    NaN  27000.0\n",
       "3  EMP01    ayushi      F  20000.0\n",
       "4  EMP05       NaN      M  25000.0\n",
       "5  EMP06     rohit      M      NaN\n",
       "6  EMP02     rohit      M  25000.0"
      ]
     },
     "execution_count": 30,
     "metadata": {},
     "output_type": "execute_result"
    }
   ],
   "source": [
    "data=pd.read_csv(\"C:/Users/Pooja/Downloads/company1.csv\")\n",
    "data"
   ]
  },
  {
   "cell_type": "code",
   "execution_count": 32,
   "id": "832a39f0-7fad-4739-9775-8f738721723e",
   "metadata": {},
   "outputs": [
    {
     "name": "stdout",
     "output_type": "stream",
     "text": [
      "0    False\n",
      "1    False\n",
      "2    False\n",
      "3     True\n",
      "4    False\n",
      "5    False\n",
      "6     True\n",
      "Name: EEID, dtype: bool\n"
     ]
    }
   ],
   "source": [
    "print (data[\"EEID\"].duplicated()) #giving the duplicate value as true and false "
   ]
  },
  {
   "cell_type": "code",
   "execution_count": 33,
   "id": "8122a6b3-41cb-4de5-8fbd-a26025a3ce39",
   "metadata": {},
   "outputs": [
    {
     "name": "stdout",
     "output_type": "stream",
     "text": [
      "2\n"
     ]
    }
   ],
   "source": [
    "print(data[\"EEID\"].duplicated().sum()) #number of duplicate value "
   ]
  },
  {
   "cell_type": "code",
   "execution_count": 35,
   "id": "e60edbbb-540f-4e21-a1d9-cf0af50f1794",
   "metadata": {},
   "outputs": [
    {
     "name": "stdout",
     "output_type": "stream",
     "text": [
      "    EEID      Name gender   salary\n",
      "0  EMP01    ayushi      F      NaN\n",
      "1  EMP02     rohit      M  25000.0\n",
      "2  EMP03  pranjali    NaN  27000.0\n",
      "4  EMP05       NaN      M  25000.0\n",
      "5  EMP06     rohit      M      NaN\n"
     ]
    }
   ],
   "source": [
    "print(data.drop_duplicates(\"EEID\"))"
   ]
  },
  {
   "cell_type": "code",
   "execution_count": 37,
   "id": "b375ce14-f967-4aa0-9312-717a7cd39cc6",
   "metadata": {},
   "outputs": [
    {
     "name": "stdout",
     "output_type": "stream",
     "text": [
      "    EEID      Name gender   salary\n",
      "0  EMP01    ayushi      F      NaN\n",
      "1  EMP02     rohit      M  25000.0\n",
      "2  EMP03  pranjali    NaN  27000.0\n",
      "4  EMP05       NaN      M  25000.0\n"
     ]
    }
   ],
   "source": [
    "print(data.drop_duplicates(\"Name\")) #but this is not reccomended because usally we have more than one person with same name "
   ]
  },
  {
   "cell_type": "code",
   "execution_count": null,
   "id": "e9bcd446-6c2b-4aa0-99ed-e7a08d583599",
   "metadata": {},
   "outputs": [],
   "source": [
    "# working with missing data in pandas \n"
   ]
  },
  {
   "cell_type": "code",
   "execution_count": 38,
   "id": "423bc5de-dc18-4d2c-bf6f-c176d9a92997",
   "metadata": {},
   "outputs": [
    {
     "data": {
      "text/html": [
       "<div>\n",
       "<style scoped>\n",
       "    .dataframe tbody tr th:only-of-type {\n",
       "        vertical-align: middle;\n",
       "    }\n",
       "\n",
       "    .dataframe tbody tr th {\n",
       "        vertical-align: top;\n",
       "    }\n",
       "\n",
       "    .dataframe thead th {\n",
       "        text-align: right;\n",
       "    }\n",
       "</style>\n",
       "<table border=\"1\" class=\"dataframe\">\n",
       "  <thead>\n",
       "    <tr style=\"text-align: right;\">\n",
       "      <th></th>\n",
       "      <th>EEID</th>\n",
       "      <th>Name</th>\n",
       "      <th>gender</th>\n",
       "      <th>salary</th>\n",
       "    </tr>\n",
       "  </thead>\n",
       "  <tbody>\n",
       "    <tr>\n",
       "      <th>0</th>\n",
       "      <td>EMP01</td>\n",
       "      <td>ayushi</td>\n",
       "      <td>F</td>\n",
       "      <td>NaN</td>\n",
       "    </tr>\n",
       "    <tr>\n",
       "      <th>1</th>\n",
       "      <td>EMP02</td>\n",
       "      <td>rohit</td>\n",
       "      <td>M</td>\n",
       "      <td>25000.0</td>\n",
       "    </tr>\n",
       "    <tr>\n",
       "      <th>2</th>\n",
       "      <td>EMP03</td>\n",
       "      <td>pranjali</td>\n",
       "      <td>NaN</td>\n",
       "      <td>27000.0</td>\n",
       "    </tr>\n",
       "    <tr>\n",
       "      <th>3</th>\n",
       "      <td>EMP01</td>\n",
       "      <td>ayushi</td>\n",
       "      <td>F</td>\n",
       "      <td>20000.0</td>\n",
       "    </tr>\n",
       "    <tr>\n",
       "      <th>4</th>\n",
       "      <td>EMP05</td>\n",
       "      <td>NaN</td>\n",
       "      <td>M</td>\n",
       "      <td>25000.0</td>\n",
       "    </tr>\n",
       "    <tr>\n",
       "      <th>5</th>\n",
       "      <td>EMP06</td>\n",
       "      <td>rohit</td>\n",
       "      <td>M</td>\n",
       "      <td>NaN</td>\n",
       "    </tr>\n",
       "    <tr>\n",
       "      <th>6</th>\n",
       "      <td>EMP02</td>\n",
       "      <td>rohit</td>\n",
       "      <td>M</td>\n",
       "      <td>25000.0</td>\n",
       "    </tr>\n",
       "  </tbody>\n",
       "</table>\n",
       "</div>"
      ],
      "text/plain": [
       "    EEID      Name gender   salary\n",
       "0  EMP01    ayushi      F      NaN\n",
       "1  EMP02     rohit      M  25000.0\n",
       "2  EMP03  pranjali    NaN  27000.0\n",
       "3  EMP01    ayushi      F  20000.0\n",
       "4  EMP05       NaN      M  25000.0\n",
       "5  EMP06     rohit      M      NaN\n",
       "6  EMP02     rohit      M  25000.0"
      ]
     },
     "execution_count": 38,
     "metadata": {},
     "output_type": "execute_result"
    }
   ],
   "source": [
    "data=pd.read_csv(\"C:/Users/Pooja/Downloads/company1.csv\")\n",
    "data\n"
   ]
  },
  {
   "cell_type": "code",
   "execution_count": 39,
   "id": "1c95afaf-74cf-4b20-bdc4-692ced525a73",
   "metadata": {},
   "outputs": [
    {
     "name": "stdout",
     "output_type": "stream",
     "text": [
      "    EEID   Name  gender  salary\n",
      "0  False  False   False    True\n",
      "1  False  False   False   False\n",
      "2  False  False    True   False\n",
      "3  False  False   False   False\n",
      "4  False   True   False   False\n",
      "5  False  False   False    True\n",
      "6  False  False   False   False\n"
     ]
    }
   ],
   "source": [
    "print(data.isnull())"
   ]
  },
  {
   "cell_type": "code",
   "execution_count": 40,
   "id": "2565012a-ac56-49e5-b22f-44cdd6246401",
   "metadata": {},
   "outputs": [
    {
     "name": "stdout",
     "output_type": "stream",
     "text": [
      "EEID      0\n",
      "Name      1\n",
      "gender    1\n",
      "salary    2\n",
      "dtype: int64\n"
     ]
    }
   ],
   "source": [
    "print(data.isnull().sum())"
   ]
  },
  {
   "cell_type": "code",
   "execution_count": 41,
   "id": "5ebb5363-4049-4f53-ba80-2c996c634bf7",
   "metadata": {},
   "outputs": [
    {
     "name": "stdout",
     "output_type": "stream",
     "text": [
      "    EEID    Name gender   salary\n",
      "1  EMP02   rohit      M  25000.0\n",
      "3  EMP01  ayushi      F  20000.0\n",
      "6  EMP02   rohit      M  25000.0\n"
     ]
    }
   ],
   "source": [
    "print(data.dropna())"
   ]
  },
  {
   "cell_type": "code",
   "execution_count": 42,
   "id": "30522228-f957-4340-911b-1df899967272",
   "metadata": {},
   "outputs": [
    {
     "name": "stdout",
     "output_type": "stream",
     "text": [
      "    EEID      Name gender   salary\n",
      "0  EMP01    ayushi      F      NaN\n",
      "1  EMP02     rohit      M  25000.0\n",
      "2  EMP03  pranjali    NaN  27000.0\n",
      "3  EMP01    ayushi      F  20000.0\n",
      "4  EMP05       NaN      M  25000.0\n",
      "5  EMP06     rohit      M      NaN\n",
      "6  EMP02     rohit      M  25000.0\n"
     ]
    }
   ],
   "source": [
    "print(data)"
   ]
  },
  {
   "cell_type": "code",
   "execution_count": 62,
   "id": "f544f8ad-dc35-45ed-9b5b-9ddd1604acc8",
   "metadata": {},
   "outputs": [
    {
     "name": "stdout",
     "output_type": "stream",
     "text": [
      "    EEID      Name gender   salary\n",
      "0  EMP01    ayushi      F  30000.0\n",
      "1  EMP02     rohit      M  25000.0\n",
      "2  EMP03  pranjali  26000  27000.0\n",
      "3  EMP01    ayushi      F  20000.0\n",
      "4  EMP05     26000      M  25000.0\n",
      "5  EMP06     rohit      M  30000.0\n",
      "6  EMP02     rohit      M  25000.0\n"
     ]
    }
   ],
   "source": [
    "import numpy as np\n",
    "print(data.replace(np.nan,26000))"
   ]
  },
  {
   "cell_type": "code",
   "execution_count": 61,
   "id": "2bfdbb7f-4d6a-4784-bdba-7ae237117490",
   "metadata": {},
   "outputs": [
    {
     "name": "stdout",
     "output_type": "stream",
     "text": [
      "    EEID      Name gender   salary\n",
      "0  EMP01    ayushi      F  30000.0\n",
      "1  EMP02     rohit      M  25000.0\n",
      "2  EMP03  pranjali    NaN  27000.0\n",
      "3  EMP01    ayushi      F  20000.0\n",
      "4  EMP05       NaN      M  25000.0\n",
      "5  EMP06     rohit      M  30000.0\n",
      "6  EMP02     rohit      M  25000.0\n"
     ]
    }
   ],
   "source": [
    "data[\"salary\"]=(data[\"salary\"].replace(np.nan,26000))\n",
    "\n",
    "print (data)"
   ]
  },
  {
   "cell_type": "code",
   "execution_count": 53,
   "id": "8cd8c996-3171-4626-9a42-8b04131ff669",
   "metadata": {},
   "outputs": [
    {
     "name": "stdout",
     "output_type": "stream",
     "text": [
      "26000.0\n"
     ]
    }
   ],
   "source": [
    "print(data[\"salary\"].mean())"
   ]
  },
  {
   "cell_type": "code",
   "execution_count": 48,
   "id": "4ded0221-135b-49c3-a91e-7836e9f1a739",
   "metadata": {},
   "outputs": [
    {
     "name": "stdout",
     "output_type": "stream",
     "text": [
      "26000.0\n"
     ]
    }
   ],
   "source": [
    "print(data[\"salary\"].mean())"
   ]
  },
  {
   "cell_type": "code",
   "execution_count": 57,
   "id": "05fe34c0-916b-4dde-9b0a-afad01c99b28",
   "metadata": {},
   "outputs": [
    {
     "name": "stdout",
     "output_type": "stream",
     "text": [
      "    EEID      Name gender   salary\n",
      "0  EMP01    ayushi      F  30000.0\n",
      "1  EMP02     rohit      M  25000.0\n",
      "2  EMP03  pranjali    NaN  27000.0\n",
      "3  EMP01    ayushi      F  20000.0\n",
      "4  EMP05       NaN      M  25000.0\n",
      "5  EMP06     rohit      M  30000.0\n",
      "6  EMP02     rohit      M  25000.0\n"
     ]
    }
   ],
   "source": [
    "\n",
    "\n",
    "print (data)"
   ]
  },
  {
   "cell_type": "code",
   "execution_count": 59,
   "id": "a9ab435f-31f1-4636-b0e6-3b5ab6656973",
   "metadata": {},
   "outputs": [
    {
     "name": "stdout",
     "output_type": "stream",
     "text": [
      "    EEID      Name gender   salary\n",
      "0  EMP01    ayushi      F  30000.0\n",
      "1  EMP02     rohit      M  25000.0\n",
      "2  EMP03  pranjali    NaN  27000.0\n",
      "3  EMP01    ayushi      F  20000.0\n",
      "4  EMP05       NaN      M  25000.0\n",
      "5  EMP06     rohit      M  30000.0\n",
      "6  EMP02     rohit      M  25000.0\n"
     ]
    }
   ],
   "source": [
    "import numpy as np\n",
    "data[\"salary\"]=data[\"salary\"].replace(np.nan,24400)\n",
    "\n",
    "print (data)"
   ]
  },
  {
   "cell_type": "code",
   "execution_count": 63,
   "id": "71a9684c-fa6c-4c81-80be-4772b1c6f958",
   "metadata": {},
   "outputs": [
    {
     "data": {
      "text/html": [
       "<div>\n",
       "<style scoped>\n",
       "    .dataframe tbody tr th:only-of-type {\n",
       "        vertical-align: middle;\n",
       "    }\n",
       "\n",
       "    .dataframe tbody tr th {\n",
       "        vertical-align: top;\n",
       "    }\n",
       "\n",
       "    .dataframe thead th {\n",
       "        text-align: right;\n",
       "    }\n",
       "</style>\n",
       "<table border=\"1\" class=\"dataframe\">\n",
       "  <thead>\n",
       "    <tr style=\"text-align: right;\">\n",
       "      <th></th>\n",
       "      <th>EEID</th>\n",
       "      <th>Name</th>\n",
       "      <th>gender</th>\n",
       "      <th>salary</th>\n",
       "    </tr>\n",
       "  </thead>\n",
       "  <tbody>\n",
       "    <tr>\n",
       "      <th>0</th>\n",
       "      <td>EMP01</td>\n",
       "      <td>ayushi</td>\n",
       "      <td>F</td>\n",
       "      <td>NaN</td>\n",
       "    </tr>\n",
       "    <tr>\n",
       "      <th>1</th>\n",
       "      <td>EMP02</td>\n",
       "      <td>rohit</td>\n",
       "      <td>M</td>\n",
       "      <td>25000.0</td>\n",
       "    </tr>\n",
       "    <tr>\n",
       "      <th>2</th>\n",
       "      <td>EMP03</td>\n",
       "      <td>pranjali</td>\n",
       "      <td>NaN</td>\n",
       "      <td>27000.0</td>\n",
       "    </tr>\n",
       "    <tr>\n",
       "      <th>3</th>\n",
       "      <td>EMP01</td>\n",
       "      <td>ayushi</td>\n",
       "      <td>F</td>\n",
       "      <td>20000.0</td>\n",
       "    </tr>\n",
       "    <tr>\n",
       "      <th>4</th>\n",
       "      <td>EMP05</td>\n",
       "      <td>NaN</td>\n",
       "      <td>M</td>\n",
       "      <td>25000.0</td>\n",
       "    </tr>\n",
       "    <tr>\n",
       "      <th>5</th>\n",
       "      <td>EMP06</td>\n",
       "      <td>rohit</td>\n",
       "      <td>M</td>\n",
       "      <td>NaN</td>\n",
       "    </tr>\n",
       "    <tr>\n",
       "      <th>6</th>\n",
       "      <td>EMP02</td>\n",
       "      <td>rohit</td>\n",
       "      <td>M</td>\n",
       "      <td>25000.0</td>\n",
       "    </tr>\n",
       "  </tbody>\n",
       "</table>\n",
       "</div>"
      ],
      "text/plain": [
       "    EEID      Name gender   salary\n",
       "0  EMP01    ayushi      F      NaN\n",
       "1  EMP02     rohit      M  25000.0\n",
       "2  EMP03  pranjali    NaN  27000.0\n",
       "3  EMP01    ayushi      F  20000.0\n",
       "4  EMP05       NaN      M  25000.0\n",
       "5  EMP06     rohit      M      NaN\n",
       "6  EMP02     rohit      M  25000.0"
      ]
     },
     "execution_count": 63,
     "metadata": {},
     "output_type": "execute_result"
    }
   ],
   "source": [
    "data=pd.read_csv(\"C:/Users/Pooja/Downloads/company1.csv\")\n",
    "data"
   ]
  },
  {
   "cell_type": "code",
   "execution_count": 65,
   "id": "5f274419-54ac-48a4-a27a-29d4c9929640",
   "metadata": {},
   "outputs": [
    {
     "name": "stdout",
     "output_type": "stream",
     "text": [
      "    EEID      Name gender   salary\n",
      "0  EMP01    ayushi      F  24400.0\n",
      "1  EMP02     rohit      M  25000.0\n",
      "2  EMP03  pranjali    NaN  27000.0\n",
      "3  EMP01    ayushi      F  20000.0\n",
      "4  EMP05       NaN      M  25000.0\n",
      "5  EMP06     rohit      M  24400.0\n",
      "6  EMP02     rohit      M  25000.0\n"
     ]
    }
   ],
   "source": [
    "import numpy as np\n",
    "data[\"salary\"]=data[\"salary\"].replace(np.nan,24400)\n",
    "\n",
    "print (data)"
   ]
  },
  {
   "cell_type": "code",
   "execution_count": 66,
   "id": "ef32902a-ffb9-433e-b348-e7a49d54d3ea",
   "metadata": {},
   "outputs": [
    {
     "data": {
      "text/html": [
       "<div>\n",
       "<style scoped>\n",
       "    .dataframe tbody tr th:only-of-type {\n",
       "        vertical-align: middle;\n",
       "    }\n",
       "\n",
       "    .dataframe tbody tr th {\n",
       "        vertical-align: top;\n",
       "    }\n",
       "\n",
       "    .dataframe thead th {\n",
       "        text-align: right;\n",
       "    }\n",
       "</style>\n",
       "<table border=\"1\" class=\"dataframe\">\n",
       "  <thead>\n",
       "    <tr style=\"text-align: right;\">\n",
       "      <th></th>\n",
       "      <th>EEID</th>\n",
       "      <th>Name</th>\n",
       "      <th>gender</th>\n",
       "      <th>salary</th>\n",
       "    </tr>\n",
       "  </thead>\n",
       "  <tbody>\n",
       "    <tr>\n",
       "      <th>0</th>\n",
       "      <td>EMP01</td>\n",
       "      <td>ayushi</td>\n",
       "      <td>F</td>\n",
       "      <td>NaN</td>\n",
       "    </tr>\n",
       "    <tr>\n",
       "      <th>1</th>\n",
       "      <td>EMP02</td>\n",
       "      <td>rohit</td>\n",
       "      <td>M</td>\n",
       "      <td>25000.0</td>\n",
       "    </tr>\n",
       "    <tr>\n",
       "      <th>2</th>\n",
       "      <td>EMP03</td>\n",
       "      <td>pranjali</td>\n",
       "      <td>NaN</td>\n",
       "      <td>27000.0</td>\n",
       "    </tr>\n",
       "    <tr>\n",
       "      <th>3</th>\n",
       "      <td>EMP01</td>\n",
       "      <td>ayushi</td>\n",
       "      <td>F</td>\n",
       "      <td>20000.0</td>\n",
       "    </tr>\n",
       "    <tr>\n",
       "      <th>4</th>\n",
       "      <td>EMP05</td>\n",
       "      <td>NaN</td>\n",
       "      <td>M</td>\n",
       "      <td>25000.0</td>\n",
       "    </tr>\n",
       "    <tr>\n",
       "      <th>5</th>\n",
       "      <td>EMP06</td>\n",
       "      <td>rohit</td>\n",
       "      <td>M</td>\n",
       "      <td>NaN</td>\n",
       "    </tr>\n",
       "    <tr>\n",
       "      <th>6</th>\n",
       "      <td>EMP02</td>\n",
       "      <td>rohit</td>\n",
       "      <td>M</td>\n",
       "      <td>25000.0</td>\n",
       "    </tr>\n",
       "  </tbody>\n",
       "</table>\n",
       "</div>"
      ],
      "text/plain": [
       "    EEID      Name gender   salary\n",
       "0  EMP01    ayushi      F      NaN\n",
       "1  EMP02     rohit      M  25000.0\n",
       "2  EMP03  pranjali    NaN  27000.0\n",
       "3  EMP01    ayushi      F  20000.0\n",
       "4  EMP05       NaN      M  25000.0\n",
       "5  EMP06     rohit      M      NaN\n",
       "6  EMP02     rohit      M  25000.0"
      ]
     },
     "execution_count": 66,
     "metadata": {},
     "output_type": "execute_result"
    }
   ],
   "source": [
    "data=pd.read_csv(\"C:/Users/Pooja/Downloads/company1.csv\")\n",
    "data"
   ]
  },
  {
   "cell_type": "code",
   "execution_count": 67,
   "id": "e36446d1-6f0a-4612-8679-d8eba90dfd48",
   "metadata": {},
   "outputs": [
    {
     "name": "stdout",
     "output_type": "stream",
     "text": [
      "    EEID      Name gender   salary\n",
      "0  EMP01    ayushi      F  26000.0\n",
      "1  EMP02     rohit      M  25000.0\n",
      "2  EMP03  pranjali    NaN  27000.0\n",
      "3  EMP01    ayushi      F  20000.0\n",
      "4  EMP05       NaN      M  25000.0\n",
      "5  EMP06     rohit      M  26000.0\n",
      "6  EMP02     rohit      M  25000.0\n"
     ]
    }
   ],
   "source": [
    "import numpy as np\n",
    "data[\"salary\"]=data[\"salary\"].replace(np.nan,26000)\n",
    "\n",
    "print (data)"
   ]
  },
  {
   "cell_type": "code",
   "execution_count": 70,
   "id": "1a6a5f83-89f4-4d0b-a4b3-4494dbe8ee46",
   "metadata": {},
   "outputs": [
    {
     "name": "stdout",
     "output_type": "stream",
     "text": [
      "    EEID      Name gender   salary\n",
      "0  EMP01    ayushi      F  26000.0\n",
      "1  EMP02     rohit      M  25000.0\n",
      "2  EMP03  pranjali      F  27000.0\n",
      "3  EMP01    ayushi      F  20000.0\n",
      "4  EMP05     rohit      M  25000.0\n",
      "5  EMP06     rohit      M  26000.0\n",
      "6  EMP02     rohit      M  25000.0\n"
     ]
    },
    {
     "name": "stderr",
     "output_type": "stream",
     "text": [
      "C:\\Users\\Pooja\\AppData\\Local\\Temp\\ipykernel_21640\\2707874273.py:1: FutureWarning: DataFrame.fillna with 'method' is deprecated and will raise in a future version. Use obj.ffill() or obj.bfill() instead.\n",
      "  print(data.fillna(method= \"bfill\"))\n"
     ]
    }
   ],
   "source": [
    "print(data.fillna(method= \"bfill\"))"
   ]
  },
  {
   "cell_type": "code",
   "execution_count": 71,
   "id": "b7797a55-6083-4c82-aa2e-df860b970dd6",
   "metadata": {},
   "outputs": [
    {
     "name": "stdout",
     "output_type": "stream",
     "text": [
      "    EEID      Name gender   salary\n",
      "0  EMP01    ayushi      F  26000.0\n",
      "1  EMP02     rohit      M  25000.0\n",
      "2  EMP03  pranjali      M  27000.0\n",
      "3  EMP01    ayushi      F  20000.0\n",
      "4  EMP05    ayushi      M  25000.0\n",
      "5  EMP06     rohit      M  26000.0\n",
      "6  EMP02     rohit      M  25000.0\n"
     ]
    },
    {
     "name": "stderr",
     "output_type": "stream",
     "text": [
      "C:\\Users\\Pooja\\AppData\\Local\\Temp\\ipykernel_21640\\3333980404.py:1: FutureWarning: DataFrame.fillna with 'method' is deprecated and will raise in a future version. Use obj.ffill() or obj.bfill() instead.\n",
      "  print(data.fillna(method= \"ffill\"))\n"
     ]
    }
   ],
   "source": [
    "print(data.fillna(method= \"ffill\"))"
   ]
  },
  {
   "cell_type": "code",
   "execution_count": null,
   "id": "daab756d-3df2-45c1-bc31-003c80c77976",
   "metadata": {},
   "outputs": [],
   "source": [
    "#columns transformation in pandas "
   ]
  },
  {
   "cell_type": "code",
   "execution_count": 4,
   "id": "f39cd120-ea11-4ffb-9b52-137674a7cbb5",
   "metadata": {},
   "outputs": [
    {
     "name": "stdout",
     "output_type": "stream",
     "text": [
      "     EEID        Full Name                 Job Title  Department  \\\n",
      "0  E02387      Emily Davis                Sr. Manger          IT   \n",
      "1  E04105    Theodore Dinh       Technical Architect          IT   \n",
      "2  E02572     Luna Sanders                  Director     Finance   \n",
      "3  E02832  Penelope Jordan  Computer Systems Manager          IT   \n",
      "4  E01639        Austin Vo               Sr. Analyst     Finance   \n",
      "5  E00644     Joshua Gupta    Account Representative       Sales   \n",
      "6  E01550      Ruby Barnes                   Manager          IT   \n",
      "7  E04332      Luke Martin                   Analyst     Finance   \n",
      "8  E04533    Easton Bailey                   Manager  Accounting   \n",
      "9  E03838  Madeline Walker               Sr. Analyst     Finance   \n",
      "\n",
      "            Business Unit  Gender  Ethnicity  Age  Hire Date  Annual Salary  \\\n",
      "0  Research & Development  Female      Black   55 2016-04-08         141604   \n",
      "1           Manufacturing    Male      Asian   59 1997-11-29          99975   \n",
      "2     Speciality Products  Female  Caucasian   50 2006-10-26         163099   \n",
      "3           Manufacturing  Female  Caucasian   26 2019-09-27          84913   \n",
      "4           Manufacturing    Male      Asian   55 1995-11-20          95409   \n",
      "5               Corporate    Male      Asian   57 2017-01-24          50994   \n",
      "6               Corporate  Female  Caucasian   27 2020-07-01         119746   \n",
      "7           Manufacturing    Male      Black   25 2020-05-16          41336   \n",
      "8           Manufacturing    Male  Caucasian   29 2019-01-25         113527   \n",
      "9     Speciality Products  Female  Caucasian   34 2018-06-13          77203   \n",
      "\n",
      "   Bonus %        Country       City  Exit Date   getBonus  \n",
      "0     0.15  United States    Seattle 2021-10-16     bonus   \n",
      "1     0.00          China  Chongqing        NaT  no bonus   \n",
      "2     0.20  United States    Chicago        NaT     bonus   \n",
      "3     0.07  United States    Chicago        NaT     bonus   \n",
      "4     0.00  United States    Phoenix        NaT  no bonus   \n",
      "5     0.00          China  Chongqing        NaT  no bonus   \n",
      "6     0.10  United States    Phoenix        NaT     bonus   \n",
      "7     0.00  United States      Miami 2021-05-20  no bonus   \n",
      "8     0.06  United States     Austin        NaT     bonus   \n",
      "9     0.00  United States    Chicago        NaT  no bonus   \n"
     ]
    }
   ],
   "source": [
    "import pandas as pd \n",
    "df= pd.read_excel(\"C:/Users/Pooja/Downloads/ESD.xlsx\")\n",
    "df\n",
    "df.loc[(df[\"Bonus %\"]==0),\"getBonus\"]=\"no bonus \"\n",
    "df.loc[(df[\"Bonus %\"]>0),\"getBonus\"]=\" bonus \"\n",
    "print(df.head(10))\n"
   ]
  },
  {
   "cell_type": "code",
   "execution_count": null,
   "id": "553e71d8-b3fc-49c0-b8f1-675859d14a8d",
   "metadata": {},
   "outputs": [],
   "source": [
    "                                                                                                                                                                                                                                                                                                                                                                                                                                                                                                                                                                                                                                                                                                                                                                                                                             "
   ]
  },
  {
   "cell_type": "code",
   "execution_count": 6,
   "id": "ef12993c-6f2a-4c4e-9289-0cc96115a402",
   "metadata": {},
   "outputs": [
    {
     "data": {
      "text/html": [
       "<div>\n",
       "<style scoped>\n",
       "    .dataframe tbody tr th:only-of-type {\n",
       "        vertical-align: middle;\n",
       "    }\n",
       "\n",
       "    .dataframe tbody tr th {\n",
       "        vertical-align: top;\n",
       "    }\n",
       "\n",
       "    .dataframe thead th {\n",
       "        text-align: right;\n",
       "    }\n",
       "</style>\n",
       "<table border=\"1\" class=\"dataframe\">\n",
       "  <thead>\n",
       "    <tr style=\"text-align: right;\">\n",
       "      <th></th>\n",
       "      <th>EEID</th>\n",
       "      <th>Name</th>\n",
       "      <th>gender</th>\n",
       "      <th>salary</th>\n",
       "    </tr>\n",
       "  </thead>\n",
       "  <tbody>\n",
       "    <tr>\n",
       "      <th>0</th>\n",
       "      <td>EMP01</td>\n",
       "      <td>ayushi</td>\n",
       "      <td>F</td>\n",
       "      <td>NaN</td>\n",
       "    </tr>\n",
       "    <tr>\n",
       "      <th>1</th>\n",
       "      <td>EMP02</td>\n",
       "      <td>rohit</td>\n",
       "      <td>M</td>\n",
       "      <td>25000.0</td>\n",
       "    </tr>\n",
       "    <tr>\n",
       "      <th>2</th>\n",
       "      <td>EMP03</td>\n",
       "      <td>pranjali</td>\n",
       "      <td>NaN</td>\n",
       "      <td>27000.0</td>\n",
       "    </tr>\n",
       "    <tr>\n",
       "      <th>3</th>\n",
       "      <td>EMP01</td>\n",
       "      <td>ayushi</td>\n",
       "      <td>F</td>\n",
       "      <td>20000.0</td>\n",
       "    </tr>\n",
       "    <tr>\n",
       "      <th>4</th>\n",
       "      <td>EMP05</td>\n",
       "      <td>NaN</td>\n",
       "      <td>M</td>\n",
       "      <td>25000.0</td>\n",
       "    </tr>\n",
       "    <tr>\n",
       "      <th>5</th>\n",
       "      <td>EMP06</td>\n",
       "      <td>rohit</td>\n",
       "      <td>M</td>\n",
       "      <td>NaN</td>\n",
       "    </tr>\n",
       "    <tr>\n",
       "      <th>6</th>\n",
       "      <td>EMP02</td>\n",
       "      <td>rohit</td>\n",
       "      <td>M</td>\n",
       "      <td>25000.0</td>\n",
       "    </tr>\n",
       "  </tbody>\n",
       "</table>\n",
       "</div>"
      ],
      "text/plain": [
       "    EEID      Name gender   salary\n",
       "0  EMP01    ayushi      F      NaN\n",
       "1  EMP02     rohit      M  25000.0\n",
       "2  EMP03  pranjali    NaN  27000.0\n",
       "3  EMP01    ayushi      F  20000.0\n",
       "4  EMP05       NaN      M  25000.0\n",
       "5  EMP06     rohit      M      NaN\n",
       "6  EMP02     rohit      M  25000.0"
      ]
     },
     "execution_count": 6,
     "metadata": {},
     "output_type": "execute_result"
    }
   ],
   "source": [
    "import pandas as pd\n",
    "data= pd.read_csv(\"C:/Users/Pooja/Downloads/company1.csv\")\n",
    "data\n"
   ]
  },
  {
   "cell_type": "code",
   "execution_count": 14,
   "id": "6703df7d-a94e-431d-8bd7-fc32eeffc0bb",
   "metadata": {},
   "outputs": [
    {
     "name": "stdout",
     "output_type": "stream",
     "text": [
      "     Client ID              Name  Age     Sex  Location ID Joined Bank  \\\n",
      "0     PKR81288     Raymond Mills   24    Male        34324  2019-05-06   \n",
      "1     PKR65833     Julia Spencer   23    Male        42205  2001-12-10   \n",
      "2     PKR47499    Stephen Murray   27  Female         7314  2010-01-25   \n",
      "3     PKR72498    Virginia Garza   40    Male        34594  1993-03-28   \n",
      "4     PKR60181   Melissa Sanders   46  Female        41269  2012-07-20   \n",
      "...        ...               ...  ...     ...          ...         ...   \n",
      "2995  PKR66827         Earl Hall   82  Female         8760  2014-10-09   \n",
      "2996  PKR40556  Billy Williamson   44  Female        32837  2009-02-05   \n",
      "2997  PKR72414      Victor Black   70  Female        36088  2009-12-29   \n",
      "2998  PKR46652       Andrew Ford   56  Female        24871  2006-02-13   \n",
      "2999  PKR40216        Amy Nguyen   79  Female        38518  2005-12-08   \n",
      "\n",
      "          Banking Contact Nationality                     Occupation  \\\n",
      "0          Anthony Torres    American           Safety Technician IV   \n",
      "1        Jonathan Hawkins     African            Software Consultant   \n",
      "2           Anthony Berry    European             Help Desk Operator   \n",
      "3              Steve Diaz    American                   Geologist II   \n",
      "4              Shawn Long    American            Assistant Professor   \n",
      "...                   ...         ...                            ...   \n",
      "2995       Joshua Bennett    American       Accounting Assistant III   \n",
      "2996          Dennis Ruiz    European                      Paralegal   \n",
      "2997          Joshua Ryan    American                Statistician IV   \n",
      "2998  Nicholas Cunningham    European  Human Resources Assistant III   \n",
      "2999           Joe Hanson    American            Biostatistician III   \n",
      "\n",
      "     Investment Advisor  ... Credit Card Balance    Bank Loans Bank Deposits  \\\n",
      "0           Victor Dean  ...            484.5440  7.762429e+05  1.485829e+06   \n",
      "1         Jeremy Porter  ...           2256.8777  1.270615e+06  6.414828e+05   \n",
      "2         Ernest Knight  ...           4568.7438  1.052716e+06  1.033402e+06   \n",
      "3             Eric Shaw  ...           4205.0010  1.211951e+05  1.048157e+06   \n",
      "4             Kevin Kim  ...           3779.4880  1.048302e+06  4.877825e+05   \n",
      "...                 ...  ...                 ...           ...           ...   \n",
      "2995     Daniel Carroll  ...            649.8540  2.239351e+05  1.089957e+06   \n",
      "2996     Peter Castillo  ...           1639.0350  5.959020e+05  1.368913e+05   \n",
      "2997      Steve Sanchez  ...           2352.8448  8.804930e+05  2.148609e+05   \n",
      "2998       Juan Ramirez  ...           3578.6088  2.686250e+05  7.426302e+05   \n",
      "2999     Peter Castillo  ...           1494.6876  2.856407e+05  6.561766e+04   \n",
      "\n",
      "      Checking Accounts  Saving Accounts  Foreign Currency Account  \\\n",
      "0          6.036179e+05    607332.455240                12249.9584   \n",
      "1          2.295214e+05    344635.157402                61162.3089   \n",
      "2          6.526747e+05    203054.348179                79071.7794   \n",
      "3          1.048157e+06    234685.019326                57513.6520   \n",
      "4          4.466442e+05    128351.452320                30012.1360   \n",
      "...                 ...              ...                       ...   \n",
      "2995       5.328679e+05    657849.619325                12947.3100   \n",
      "2996       5.658174e+04     93195.608103                23205.6900   \n",
      "2997       1.587261e+05     35539.152952                30291.8112   \n",
      "2998       4.046383e+05     56411.334112                 6413.1444   \n",
      "2999       7.776908e+04     32371.380536                 8992.3608   \n",
      "\n",
      "      Business Lending  Properties Owned  Risk Weighting  \\\n",
      "0         1.134475e+06                 1               2   \n",
      "1         2.000526e+06                 1               3   \n",
      "2         5.481376e+05                 1               3   \n",
      "3         1.148402e+06                 0               4   \n",
      "4         1.674412e+06                 0               3   \n",
      "...                ...               ...             ...   \n",
      "2995      1.238860e+06                 1               3   \n",
      "2996      2.771711e+05                 1               2   \n",
      "2997      5.029472e+05                 2               2   \n",
      "2998      1.538369e+06                 3               1   \n",
      "2999      3.294125e+05                 1               1   \n",
      "\n",
      "                 full detail  \n",
      "0          Raymond MillsMale  \n",
      "1          Julia SpencerMale  \n",
      "2       Stephen MurrayFemale  \n",
      "3         Virginia GarzaMale  \n",
      "4      Melissa SandersFemale  \n",
      "...                      ...  \n",
      "2995         Earl HallFemale  \n",
      "2996  Billy WilliamsonFemale  \n",
      "2997      Victor BlackFemale  \n",
      "2998       Andrew FordFemale  \n",
      "2999        Amy NguyenFemale  \n",
      "\n",
      "[3000 rows x 26 columns]\n"
     ]
    }
   ],
   "source": [
    "import pandas as pd\n",
    "data= pd.read_excel(\"C:/Users/Pooja/Downloads/banking Data.xlsx\")\n",
    "data.head(10)\n",
    "data[\"full detail\"]=data[\"Name\"]+data[\"Sex\"]\n",
    "print(data)\n"
   ]
  },
  {
   "cell_type": "code",
   "execution_count": 15,
   "id": "8ce727bc-ec8a-46ff-8743-470f62cc4a5e",
   "metadata": {},
   "outputs": [
    {
     "name": "stdout",
     "output_type": "stream",
     "text": [
      "     Client ID              Name  Age     Sex  Location ID Joined Bank  \\\n",
      "0     PKR81288     Raymond Mills   24    Male        34324  2019-05-06   \n",
      "1     PKR65833     Julia Spencer   23    Male        42205  2001-12-10   \n",
      "2     PKR47499    Stephen Murray   27  Female         7314  2010-01-25   \n",
      "3     PKR72498    Virginia Garza   40    Male        34594  1993-03-28   \n",
      "4     PKR60181   Melissa Sanders   46  Female        41269  2012-07-20   \n",
      "...        ...               ...  ...     ...          ...         ...   \n",
      "2995  PKR66827         Earl Hall   82  Female         8760  2014-10-09   \n",
      "2996  PKR40556  Billy Williamson   44  Female        32837  2009-02-05   \n",
      "2997  PKR72414      Victor Black   70  Female        36088  2009-12-29   \n",
      "2998  PKR46652       Andrew Ford   56  Female        24871  2006-02-13   \n",
      "2999  PKR40216        Amy Nguyen   79  Female        38518  2005-12-08   \n",
      "\n",
      "          Banking Contact Nationality                     Occupation  \\\n",
      "0          Anthony Torres    American           Safety Technician IV   \n",
      "1        Jonathan Hawkins     African            Software Consultant   \n",
      "2           Anthony Berry    European             Help Desk Operator   \n",
      "3              Steve Diaz    American                   Geologist II   \n",
      "4              Shawn Long    American            Assistant Professor   \n",
      "...                   ...         ...                            ...   \n",
      "2995       Joshua Bennett    American       Accounting Assistant III   \n",
      "2996          Dennis Ruiz    European                      Paralegal   \n",
      "2997          Joshua Ryan    American                Statistician IV   \n",
      "2998  Nicholas Cunningham    European  Human Resources Assistant III   \n",
      "2999           Joe Hanson    American            Biostatistician III   \n",
      "\n",
      "     Investment Advisor  ... Credit Card Balance    Bank Loans Bank Deposits  \\\n",
      "0           Victor Dean  ...            484.5440  7.762429e+05  1.485829e+06   \n",
      "1         Jeremy Porter  ...           2256.8777  1.270615e+06  6.414828e+05   \n",
      "2         Ernest Knight  ...           4568.7438  1.052716e+06  1.033402e+06   \n",
      "3             Eric Shaw  ...           4205.0010  1.211951e+05  1.048157e+06   \n",
      "4             Kevin Kim  ...           3779.4880  1.048302e+06  4.877825e+05   \n",
      "...                 ...  ...                 ...           ...           ...   \n",
      "2995     Daniel Carroll  ...            649.8540  2.239351e+05  1.089957e+06   \n",
      "2996     Peter Castillo  ...           1639.0350  5.959020e+05  1.368913e+05   \n",
      "2997      Steve Sanchez  ...           2352.8448  8.804930e+05  2.148609e+05   \n",
      "2998       Juan Ramirez  ...           3578.6088  2.686250e+05  7.426302e+05   \n",
      "2999     Peter Castillo  ...           1494.6876  2.856407e+05  6.561766e+04   \n",
      "\n",
      "      Checking Accounts  Saving Accounts  Foreign Currency Account  \\\n",
      "0          6.036179e+05    607332.455240                12249.9584   \n",
      "1          2.295214e+05    344635.157402                61162.3089   \n",
      "2          6.526747e+05    203054.348179                79071.7794   \n",
      "3          1.048157e+06    234685.019326                57513.6520   \n",
      "4          4.466442e+05    128351.452320                30012.1360   \n",
      "...                 ...              ...                       ...   \n",
      "2995       5.328679e+05    657849.619325                12947.3100   \n",
      "2996       5.658174e+04     93195.608103                23205.6900   \n",
      "2997       1.587261e+05     35539.152952                30291.8112   \n",
      "2998       4.046383e+05     56411.334112                 6413.1444   \n",
      "2999       7.776908e+04     32371.380536                 8992.3608   \n",
      "\n",
      "      Business Lending  Properties Owned  Risk Weighting  \\\n",
      "0         1.134475e+06                 1               2   \n",
      "1         2.000526e+06                 1               3   \n",
      "2         5.481376e+05                 1               3   \n",
      "3         1.148402e+06                 0               4   \n",
      "4         1.674412e+06                 0               3   \n",
      "...                ...               ...             ...   \n",
      "2995      1.238860e+06                 1               3   \n",
      "2996      2.771711e+05                 1               2   \n",
      "2997      5.029472e+05                 2               2   \n",
      "2998      1.538369e+06                 3               1   \n",
      "2999      3.294125e+05                 1               1   \n",
      "\n",
      "                 full detail  \n",
      "0          Raymond MillsMale  \n",
      "1          Julia SpencerMale  \n",
      "2       Stephen MurrayFemale  \n",
      "3         Virginia GarzaMale  \n",
      "4      Melissa SandersFemale  \n",
      "...                      ...  \n",
      "2995         Earl HallFemale  \n",
      "2996  Billy WilliamsonFemale  \n",
      "2997      Victor BlackFemale  \n",
      "2998       Andrew FordFemale  \n",
      "2999        Amy NguyenFemale  \n",
      "\n",
      "[3000 rows x 26 columns]\n",
      "     Client ID              Name  Age     Sex  Location ID Joined Bank  \\\n",
      "0     PKR81288     Raymond Mills   24    Male        34324  2019-05-06   \n",
      "1     PKR65833     Julia Spencer   23    Male        42205  2001-12-10   \n",
      "2     PKR47499    Stephen Murray   27  Female         7314  2010-01-25   \n",
      "3     PKR72498    Virginia Garza   40    Male        34594  1993-03-28   \n",
      "4     PKR60181   Melissa Sanders   46  Female        41269  2012-07-20   \n",
      "...        ...               ...  ...     ...          ...         ...   \n",
      "2995  PKR66827         Earl Hall   82  Female         8760  2014-10-09   \n",
      "2996  PKR40556  Billy Williamson   44  Female        32837  2009-02-05   \n",
      "2997  PKR72414      Victor Black   70  Female        36088  2009-12-29   \n",
      "2998  PKR46652       Andrew Ford   56  Female        24871  2006-02-13   \n",
      "2999  PKR40216        Amy Nguyen   79  Female        38518  2005-12-08   \n",
      "\n",
      "          Banking Contact Nationality                     Occupation  \\\n",
      "0          Anthony Torres    American           Safety Technician IV   \n",
      "1        Jonathan Hawkins     African            Software Consultant   \n",
      "2           Anthony Berry    European             Help Desk Operator   \n",
      "3              Steve Diaz    American                   Geologist II   \n",
      "4              Shawn Long    American            Assistant Professor   \n",
      "...                   ...         ...                            ...   \n",
      "2995       Joshua Bennett    American       Accounting Assistant III   \n",
      "2996          Dennis Ruiz    European                      Paralegal   \n",
      "2997          Joshua Ryan    American                Statistician IV   \n",
      "2998  Nicholas Cunningham    European  Human Resources Assistant III   \n",
      "2999           Joe Hanson    American            Biostatistician III   \n",
      "\n",
      "     Investment Advisor  ... Credit Card Balance    Bank Loans Bank Deposits  \\\n",
      "0           Victor Dean  ...            484.5440  7.762429e+05  1.485829e+06   \n",
      "1         Jeremy Porter  ...           2256.8777  1.270615e+06  6.414828e+05   \n",
      "2         Ernest Knight  ...           4568.7438  1.052716e+06  1.033402e+06   \n",
      "3             Eric Shaw  ...           4205.0010  1.211951e+05  1.048157e+06   \n",
      "4             Kevin Kim  ...           3779.4880  1.048302e+06  4.877825e+05   \n",
      "...                 ...  ...                 ...           ...           ...   \n",
      "2995     Daniel Carroll  ...            649.8540  2.239351e+05  1.089957e+06   \n",
      "2996     Peter Castillo  ...           1639.0350  5.959020e+05  1.368913e+05   \n",
      "2997      Steve Sanchez  ...           2352.8448  8.804930e+05  2.148609e+05   \n",
      "2998       Juan Ramirez  ...           3578.6088  2.686250e+05  7.426302e+05   \n",
      "2999     Peter Castillo  ...           1494.6876  2.856407e+05  6.561766e+04   \n",
      "\n",
      "      Checking Accounts  Saving Accounts  Foreign Currency Account  \\\n",
      "0          6.036179e+05    607332.455240                12249.9584   \n",
      "1          2.295214e+05    344635.157402                61162.3089   \n",
      "2          6.526747e+05    203054.348179                79071.7794   \n",
      "3          1.048157e+06    234685.019326                57513.6520   \n",
      "4          4.466442e+05    128351.452320                30012.1360   \n",
      "...                 ...              ...                       ...   \n",
      "2995       5.328679e+05    657849.619325                12947.3100   \n",
      "2996       5.658174e+04     93195.608103                23205.6900   \n",
      "2997       1.587261e+05     35539.152952                30291.8112   \n",
      "2998       4.046383e+05     56411.334112                 6413.1444   \n",
      "2999       7.776908e+04     32371.380536                 8992.3608   \n",
      "\n",
      "      Business Lending  Properties Owned  Risk Weighting  \\\n",
      "0         1.134475e+06                 1               2   \n",
      "1         2.000526e+06                 1               3   \n",
      "2         5.481376e+05                 1               3   \n",
      "3         1.148402e+06                 0               4   \n",
      "4         1.674412e+06                 0               3   \n",
      "...                ...               ...             ...   \n",
      "2995      1.238860e+06                 1               3   \n",
      "2996      2.771711e+05                 1               2   \n",
      "2997      5.029472e+05                 2               2   \n",
      "2998      1.538369e+06                 3               1   \n",
      "2999      3.294125e+05                 1               1   \n",
      "\n",
      "                 full detail  \n",
      "0          Raymond MillsMale  \n",
      "1          Julia SpencerMale  \n",
      "2       Stephen MurrayFemale  \n",
      "3         Virginia GarzaMale  \n",
      "4      Melissa SandersFemale  \n",
      "...                      ...  \n",
      "2995         Earl HallFemale  \n",
      "2996  Billy WilliamsonFemale  \n",
      "2997      Victor BlackFemale  \n",
      "2998       Andrew FordFemale  \n",
      "2999        Amy NguyenFemale  \n",
      "\n",
      "[3000 rows x 26 columns]\n"
     ]
    }
   ],
   "source": [
    "print(data)\n",
    "data[\"full detail\"]=data[\"Name\"]+data[\"Sex\"] \n",
    "print(data)"
   ]
  },
  {
   "cell_type": "code",
   "execution_count": 18,
   "id": "e1a8c911-67c9-4afa-b76d-50b9e0e233c0",
   "metadata": {},
   "outputs": [
    {
     "name": "stdout",
     "output_type": "stream",
     "text": [
      "     Client ID              Name  Age     Sex  Location ID Joined Bank  \\\n",
      "0     PKR81288     Raymond Mills   24    Male        34324  2019-05-06   \n",
      "1     PKR65833     Julia Spencer   23    Male        42205  2001-12-10   \n",
      "2     PKR47499    Stephen Murray   27  Female         7314  2010-01-25   \n",
      "3     PKR72498    Virginia Garza   40    Male        34594  1993-03-28   \n",
      "4     PKR60181   Melissa Sanders   46  Female        41269  2012-07-20   \n",
      "...        ...               ...  ...     ...          ...         ...   \n",
      "2995  PKR66827         Earl Hall   82  Female         8760  2014-10-09   \n",
      "2996  PKR40556  Billy Williamson   44  Female        32837  2009-02-05   \n",
      "2997  PKR72414      Victor Black   70  Female        36088  2009-12-29   \n",
      "2998  PKR46652       Andrew Ford   56  Female        24871  2006-02-13   \n",
      "2999  PKR40216        Amy Nguyen   79  Female        38518  2005-12-08   \n",
      "\n",
      "          Banking Contact Nationality                     Occupation  \\\n",
      "0          Anthony Torres    American           Safety Technician IV   \n",
      "1        Jonathan Hawkins     African            Software Consultant   \n",
      "2           Anthony Berry    European             Help Desk Operator   \n",
      "3              Steve Diaz    American                   Geologist II   \n",
      "4              Shawn Long    American            Assistant Professor   \n",
      "...                   ...         ...                            ...   \n",
      "2995       Joshua Bennett    American       Accounting Assistant III   \n",
      "2996          Dennis Ruiz    European                      Paralegal   \n",
      "2997          Joshua Ryan    American                Statistician IV   \n",
      "2998  Nicholas Cunningham    European  Human Resources Assistant III   \n",
      "2999           Joe Hanson    American            Biostatistician III   \n",
      "\n",
      "     Investment Advisor  ... Credit Card Balance    Bank Loans Bank Deposits  \\\n",
      "0           Victor Dean  ...            484.5440  7.762429e+05  1.485829e+06   \n",
      "1         Jeremy Porter  ...           2256.8777  1.270615e+06  6.414828e+05   \n",
      "2         Ernest Knight  ...           4568.7438  1.052716e+06  1.033402e+06   \n",
      "3             Eric Shaw  ...           4205.0010  1.211951e+05  1.048157e+06   \n",
      "4             Kevin Kim  ...           3779.4880  1.048302e+06  4.877825e+05   \n",
      "...                 ...  ...                 ...           ...           ...   \n",
      "2995     Daniel Carroll  ...            649.8540  2.239351e+05  1.089957e+06   \n",
      "2996     Peter Castillo  ...           1639.0350  5.959020e+05  1.368913e+05   \n",
      "2997      Steve Sanchez  ...           2352.8448  8.804930e+05  2.148609e+05   \n",
      "2998       Juan Ramirez  ...           3578.6088  2.686250e+05  7.426302e+05   \n",
      "2999     Peter Castillo  ...           1494.6876  2.856407e+05  6.561766e+04   \n",
      "\n",
      "      Checking Accounts  Saving Accounts  Foreign Currency Account  \\\n",
      "0          6.036179e+05    607332.455240                12249.9584   \n",
      "1          2.295214e+05    344635.157402                61162.3089   \n",
      "2          6.526747e+05    203054.348179                79071.7794   \n",
      "3          1.048157e+06    234685.019326                57513.6520   \n",
      "4          4.466442e+05    128351.452320                30012.1360   \n",
      "...                 ...              ...                       ...   \n",
      "2995       5.328679e+05    657849.619325                12947.3100   \n",
      "2996       5.658174e+04     93195.608103                23205.6900   \n",
      "2997       1.587261e+05     35539.152952                30291.8112   \n",
      "2998       4.046383e+05     56411.334112                 6413.1444   \n",
      "2999       7.776908e+04     32371.380536                 8992.3608   \n",
      "\n",
      "      Business Lending  Properties Owned  Risk Weighting  \\\n",
      "0         1.134475e+06                 1               2   \n",
      "1         2.000526e+06                 1               3   \n",
      "2         5.481376e+05                 1               3   \n",
      "3         1.148402e+06                 0               4   \n",
      "4         1.674412e+06                 0               3   \n",
      "...                ...               ...             ...   \n",
      "2995      1.238860e+06                 1               3   \n",
      "2996      2.771711e+05                 1               2   \n",
      "2997      5.029472e+05                 2               2   \n",
      "2998      1.538369e+06                 3               1   \n",
      "2999      3.294125e+05                 1               1   \n",
      "\n",
      "                  full detail  \n",
      "0          Raymond Mills Male  \n",
      "1          Julia Spencer Male  \n",
      "2       Stephen Murray Female  \n",
      "3         Virginia Garza Male  \n",
      "4      Melissa Sanders Female  \n",
      "...                       ...  \n",
      "2995         Earl Hall Female  \n",
      "2996  Billy Williamson Female  \n",
      "2997      Victor Black Female  \n",
      "2998       Andrew Ford Female  \n",
      "2999        Amy Nguyen Female  \n",
      "\n",
      "[3000 rows x 26 columns]\n",
      "     Client ID              Name  Age     Sex  Location ID Joined Bank  \\\n",
      "0     PKR81288     Raymond Mills   24    Male        34324  2019-05-06   \n",
      "1     PKR65833     Julia Spencer   23    Male        42205  2001-12-10   \n",
      "2     PKR47499    Stephen Murray   27  Female         7314  2010-01-25   \n",
      "3     PKR72498    Virginia Garza   40    Male        34594  1993-03-28   \n",
      "4     PKR60181   Melissa Sanders   46  Female        41269  2012-07-20   \n",
      "...        ...               ...  ...     ...          ...         ...   \n",
      "2995  PKR66827         Earl Hall   82  Female         8760  2014-10-09   \n",
      "2996  PKR40556  Billy Williamson   44  Female        32837  2009-02-05   \n",
      "2997  PKR72414      Victor Black   70  Female        36088  2009-12-29   \n",
      "2998  PKR46652       Andrew Ford   56  Female        24871  2006-02-13   \n",
      "2999  PKR40216        Amy Nguyen   79  Female        38518  2005-12-08   \n",
      "\n",
      "          Banking Contact Nationality                     Occupation  \\\n",
      "0          Anthony Torres    American           Safety Technician IV   \n",
      "1        Jonathan Hawkins     African            Software Consultant   \n",
      "2           Anthony Berry    European             Help Desk Operator   \n",
      "3              Steve Diaz    American                   Geologist II   \n",
      "4              Shawn Long    American            Assistant Professor   \n",
      "...                   ...         ...                            ...   \n",
      "2995       Joshua Bennett    American       Accounting Assistant III   \n",
      "2996          Dennis Ruiz    European                      Paralegal   \n",
      "2997          Joshua Ryan    American                Statistician IV   \n",
      "2998  Nicholas Cunningham    European  Human Resources Assistant III   \n",
      "2999           Joe Hanson    American            Biostatistician III   \n",
      "\n",
      "     Investment Advisor  ... Credit Card Balance    Bank Loans Bank Deposits  \\\n",
      "0           Victor Dean  ...            484.5440  7.762429e+05  1.485829e+06   \n",
      "1         Jeremy Porter  ...           2256.8777  1.270615e+06  6.414828e+05   \n",
      "2         Ernest Knight  ...           4568.7438  1.052716e+06  1.033402e+06   \n",
      "3             Eric Shaw  ...           4205.0010  1.211951e+05  1.048157e+06   \n",
      "4             Kevin Kim  ...           3779.4880  1.048302e+06  4.877825e+05   \n",
      "...                 ...  ...                 ...           ...           ...   \n",
      "2995     Daniel Carroll  ...            649.8540  2.239351e+05  1.089957e+06   \n",
      "2996     Peter Castillo  ...           1639.0350  5.959020e+05  1.368913e+05   \n",
      "2997      Steve Sanchez  ...           2352.8448  8.804930e+05  2.148609e+05   \n",
      "2998       Juan Ramirez  ...           3578.6088  2.686250e+05  7.426302e+05   \n",
      "2999     Peter Castillo  ...           1494.6876  2.856407e+05  6.561766e+04   \n",
      "\n",
      "      Checking Accounts  Saving Accounts  Foreign Currency Account  \\\n",
      "0          6.036179e+05    607332.455240                12249.9584   \n",
      "1          2.295214e+05    344635.157402                61162.3089   \n",
      "2          6.526747e+05    203054.348179                79071.7794   \n",
      "3          1.048157e+06    234685.019326                57513.6520   \n",
      "4          4.466442e+05    128351.452320                30012.1360   \n",
      "...                 ...              ...                       ...   \n",
      "2995       5.328679e+05    657849.619325                12947.3100   \n",
      "2996       5.658174e+04     93195.608103                23205.6900   \n",
      "2997       1.587261e+05     35539.152952                30291.8112   \n",
      "2998       4.046383e+05     56411.334112                 6413.1444   \n",
      "2999       7.776908e+04     32371.380536                 8992.3608   \n",
      "\n",
      "      Business Lending  Properties Owned  Risk Weighting  \\\n",
      "0         1.134475e+06                 1               2   \n",
      "1         2.000526e+06                 1               3   \n",
      "2         5.481376e+05                 1               3   \n",
      "3         1.148402e+06                 0               4   \n",
      "4         1.674412e+06                 0               3   \n",
      "...                ...               ...             ...   \n",
      "2995      1.238860e+06                 1               3   \n",
      "2996      2.771711e+05                 1               2   \n",
      "2997      5.029472e+05                 2               2   \n",
      "2998      1.538369e+06                 3               1   \n",
      "2999      3.294125e+05                 1               1   \n",
      "\n",
      "                    full detail  \n",
      "0          Raymond Mills   Male  \n",
      "1          Julia Spencer   Male  \n",
      "2       Stephen Murray   Female  \n",
      "3         Virginia Garza   Male  \n",
      "4      Melissa Sanders   Female  \n",
      "...                         ...  \n",
      "2995         Earl Hall   Female  \n",
      "2996  Billy Williamson   Female  \n",
      "2997      Victor Black   Female  \n",
      "2998       Andrew Ford   Female  \n",
      "2999        Amy Nguyen   Female  \n",
      "\n",
      "[3000 rows x 26 columns]\n"
     ]
    }
   ],
   "source": [
    "print(data)\n",
    "data[\"full detail\"]=data[\"Name\"] + \"   \" +data[\"Sex\"] \n",
    "print(data)"
   ]
  },
  {
   "cell_type": "code",
   "execution_count": 4,
   "id": "90868d1d-ebdc-4c74-8850-80d6f7a73215",
   "metadata": {},
   "outputs": [
    {
     "data": {
      "text/plain": [
       "0    a\n",
       "1    b\n",
       "2    c\n",
       "3    d\n",
       "dtype: object"
      ]
     },
     "execution_count": 4,
     "metadata": {},
     "output_type": "execute_result"
    }
   ],
   "source": [
    "import pandas as pd \n",
    "import numpy as np\n",
    "data=np.array(['a','b','c','d']) \n",
    "ser = pd.Series(data)\n",
    "ser\n"
   ]
  },
  {
   "cell_type": "code",
   "execution_count": 7,
   "id": "fac8c153-a73b-4751-a876-becb7d54e08c",
   "metadata": {},
   "outputs": [
    {
     "data": {
      "text/plain": [
       "0    a\n",
       "1    b\n",
       "2    c\n",
       "3    d\n",
       "dtype: object"
      ]
     },
     "execution_count": 7,
     "metadata": {},
     "output_type": "execute_result"
    }
   ],
   "source": [
    "directseries=pd.Series(np.array(['a','b','c','d']) ) # we also create series in this way \n",
    "directseries "
   ]
  },
  {
   "cell_type": "code",
   "execution_count": 8,
   "id": "e175f4b0-57a8-4c62-98b5-05eca0ea6dee",
   "metadata": {},
   "outputs": [
    {
     "data": {
      "text/plain": [
       "Series([], dtype: object)"
      ]
     },
     "execution_count": 8,
     "metadata": {},
     "output_type": "execute_result"
    }
   ],
   "source": [
    "empty =pd.Series()\n",
    "empty "
   ]
  },
  {
   "cell_type": "code",
   "execution_count": 9,
   "id": "a834e887-c297-4981-bd6a-c889142c4ad8",
   "metadata": {},
   "outputs": [],
   "source": [
    "#creating daataframe \n"
   ]
  },
  {
   "cell_type": "code",
   "execution_count": 11,
   "id": "39878a6e-cf08-4b9f-af80-9587257c7b33",
   "metadata": {},
   "outputs": [
    {
     "name": "stdout",
     "output_type": "stream",
     "text": [
      "Empty DataFrame\n",
      "Columns: []\n",
      "Index: []\n"
     ]
    }
   ],
   "source": [
    "import pandas as pd\n",
    "data=pd.DataFrame() #EMPTY DATAFRAME \n",
    "print(data)"
   ]
  },
  {
   "cell_type": "code",
   "execution_count": 12,
   "id": "8009f8a2-3e18-4a26-953f-f088643ba32b",
   "metadata": {},
   "outputs": [
    {
     "data": {
      "text/html": [
       "<div>\n",
       "<style scoped>\n",
       "    .dataframe tbody tr th:only-of-type {\n",
       "        vertical-align: middle;\n",
       "    }\n",
       "\n",
       "    .dataframe tbody tr th {\n",
       "        vertical-align: top;\n",
       "    }\n",
       "\n",
       "    .dataframe thead th {\n",
       "        text-align: right;\n",
       "    }\n",
       "</style>\n",
       "<table border=\"1\" class=\"dataframe\">\n",
       "  <thead>\n",
       "    <tr style=\"text-align: right;\">\n",
       "      <th></th>\n",
       "      <th>0</th>\n",
       "    </tr>\n",
       "  </thead>\n",
       "  <tbody>\n",
       "    <tr>\n",
       "      <th>0</th>\n",
       "      <td>pooja</td>\n",
       "    </tr>\n",
       "    <tr>\n",
       "      <th>1</th>\n",
       "      <td>manish</td>\n",
       "    </tr>\n",
       "    <tr>\n",
       "      <th>2</th>\n",
       "      <td>lucky</td>\n",
       "    </tr>\n",
       "    <tr>\n",
       "      <th>3</th>\n",
       "      <td>shilpi</td>\n",
       "    </tr>\n",
       "  </tbody>\n",
       "</table>\n",
       "</div>"
      ],
      "text/plain": [
       "        0\n",
       "0   pooja\n",
       "1  manish\n",
       "2   lucky\n",
       "3  shilpi"
      ]
     },
     "execution_count": 12,
     "metadata": {},
     "output_type": "execute_result"
    }
   ],
   "source": [
    "list =[\"pooja\",\"manish\",\"lucky\",\"shilpi\"]\n",
    "df=pd.DataFrame(list)\n",
    "df"
   ]
  },
  {
   "cell_type": "code",
   "execution_count": 14,
   "id": "b346ac84-9ef9-4bf4-b2da-f417fb792a5d",
   "metadata": {},
   "outputs": [
    {
     "name": "stdout",
     "output_type": "stream",
     "text": [
      "    cars  passings\n",
      "0    BMW         3\n",
      "1  Volvo         7\n",
      "2   Ford         2\n"
     ]
    }
   ],
   "source": [
    "import pandas as pd\n",
    "\n",
    "mydataset = {\n",
    "  'cars': [\"BMW\", \"Volvo\", \"Ford\"],\n",
    "  'passings': [3, 7, 2]\n",
    "}\n",
    "\n",
    "myvar = pd.DataFrame(mydataset)\n",
    "\n",
    "print(myvar)"
   ]
  },
  {
   "cell_type": "code",
   "execution_count": 17,
   "id": "b13e7a99-b9d8-4b7a-9d0b-326642e01001",
   "metadata": {},
   "outputs": [
    {
     "name": "stdout",
     "output_type": "stream",
     "text": [
      "2.1.3\n"
     ]
    }
   ],
   "source": [
    "print (pd.__version__) #checkin version of pandas "
   ]
  },
  {
   "cell_type": "code",
   "execution_count": 18,
   "id": "d9a4d649-cdf4-4d4f-893c-7e597a2a4863",
   "metadata": {},
   "outputs": [
    {
     "name": "stdout",
     "output_type": "stream",
     "text": [
      "x    1\n",
      "y    7\n",
      "z    2\n",
      "dtype: int64\n"
     ]
    }
   ],
   "source": [
    "import pandas as pd\n",
    "\n",
    "a = [1, 7, 2]\n",
    "\n",
    "myvar = pd.Series(a, index = [\"x\", \"y\", \"z\"]) # creating your own labels\n",
    "\n",
    "print(myvar)"
   ]
  },
  {
   "cell_type": "code",
   "execution_count": 1,
   "id": "46d205ff-8d11-466b-94ad-5d6760a32cc9",
   "metadata": {},
   "outputs": [
    {
     "data": {
      "text/html": [
       "<div>\n",
       "<style scoped>\n",
       "    .dataframe tbody tr th:only-of-type {\n",
       "        vertical-align: middle;\n",
       "    }\n",
       "\n",
       "    .dataframe tbody tr th {\n",
       "        vertical-align: top;\n",
       "    }\n",
       "\n",
       "    .dataframe thead th {\n",
       "        text-align: right;\n",
       "    }\n",
       "</style>\n",
       "<table border=\"1\" class=\"dataframe\">\n",
       "  <thead>\n",
       "    <tr style=\"text-align: right;\">\n",
       "      <th></th>\n",
       "      <th>EEID</th>\n",
       "      <th>Name</th>\n",
       "      <th>gender</th>\n",
       "      <th>salary</th>\n",
       "    </tr>\n",
       "  </thead>\n",
       "  <tbody>\n",
       "    <tr>\n",
       "      <th>0</th>\n",
       "      <td>EMP01</td>\n",
       "      <td>ayushi</td>\n",
       "      <td>F</td>\n",
       "      <td>NaN</td>\n",
       "    </tr>\n",
       "    <tr>\n",
       "      <th>1</th>\n",
       "      <td>EMP02</td>\n",
       "      <td>rohit</td>\n",
       "      <td>M</td>\n",
       "      <td>25000.0</td>\n",
       "    </tr>\n",
       "    <tr>\n",
       "      <th>2</th>\n",
       "      <td>EMP03</td>\n",
       "      <td>pranjali</td>\n",
       "      <td>NaN</td>\n",
       "      <td>27000.0</td>\n",
       "    </tr>\n",
       "    <tr>\n",
       "      <th>3</th>\n",
       "      <td>EMP01</td>\n",
       "      <td>ayushi</td>\n",
       "      <td>F</td>\n",
       "      <td>20000.0</td>\n",
       "    </tr>\n",
       "    <tr>\n",
       "      <th>4</th>\n",
       "      <td>EMP05</td>\n",
       "      <td>NaN</td>\n",
       "      <td>M</td>\n",
       "      <td>25000.0</td>\n",
       "    </tr>\n",
       "    <tr>\n",
       "      <th>5</th>\n",
       "      <td>EMP06</td>\n",
       "      <td>rohit</td>\n",
       "      <td>M</td>\n",
       "      <td>NaN</td>\n",
       "    </tr>\n",
       "    <tr>\n",
       "      <th>6</th>\n",
       "      <td>EMP02</td>\n",
       "      <td>rohit</td>\n",
       "      <td>M</td>\n",
       "      <td>25000.0</td>\n",
       "    </tr>\n",
       "  </tbody>\n",
       "</table>\n",
       "</div>"
      ],
      "text/plain": [
       "    EEID      Name gender   salary\n",
       "0  EMP01    ayushi      F      NaN\n",
       "1  EMP02     rohit      M  25000.0\n",
       "2  EMP03  pranjali    NaN  27000.0\n",
       "3  EMP01    ayushi      F  20000.0\n",
       "4  EMP05       NaN      M  25000.0\n",
       "5  EMP06     rohit      M      NaN\n",
       "6  EMP02     rohit      M  25000.0"
      ]
     },
     "execution_count": 1,
     "metadata": {},
     "output_type": "execute_result"
    }
   ],
   "source": [
    "import pandas as pd\n",
    "data= pd.read_csv(\"C:/Users/Pooja/Downloads/company1.csv\")\n",
    "data\n"
   ]
  },
  {
   "cell_type": "code",
   "execution_count": 2,
   "id": "de7f6747-5189-47a6-9b3b-b7a4aba45bca",
   "metadata": {},
   "outputs": [
    {
     "name": "stdout",
     "output_type": "stream",
     "text": [
      "    EEID      Name gender   salary   bonus\n",
      "0  EMP01    ayushi      F      NaN     NaN\n",
      "1  EMP02     rohit      M  25000.0  5000.0\n",
      "2  EMP03  pranjali    NaN  27000.0  5400.0\n",
      "3  EMP01    ayushi      F  20000.0  4000.0\n",
      "4  EMP05       NaN      M  25000.0  5000.0\n",
      "5  EMP06     rohit      M      NaN     NaN\n",
      "6  EMP02     rohit      M  25000.0  5000.0\n"
     ]
    }
   ],
   "source": [
    "data[\"bonus\"]=(data[\"salary\"]/100)*20 #column transformations \n",
    "print(data)"
   ]
  },
  {
   "cell_type": "code",
   "execution_count": 8,
   "id": "58ad9621-c0ca-4495-b434-de1f29ef6624",
   "metadata": {},
   "outputs": [
    {
     "name": "stdout",
     "output_type": "stream",
     "text": [
      "     months short_mpnths\n",
      "0   january          jan\n",
      "1  februaru          feb\n",
      "2     march          mar\n",
      "3     april          apr\n"
     ]
    }
   ],
   "source": [
    "data={\"months\":[\"january\" ,\"februaru\" ,\"march\" ,\"april\"]}\n",
    "a=pd.DataFrame(data)\n",
    "a\n",
    "def extract(value):\n",
    "    return value[0:3]\n",
    "a[\"short_months\"]=a[\"months\"].map(extract)\n",
    "print(a)"
   ]
  },
  {
   "cell_type": "code",
   "execution_count": 9,
   "id": "c2ecc09c-c739-43db-865a-7a16eb02566a",
   "metadata": {},
   "outputs": [],
   "source": [
    "#group by in pandas "
   ]
  },
  {
   "cell_type": "code",
   "execution_count": 28,
   "id": "1defaf24-82da-492e-8759-8fcb1f1b84b7",
   "metadata": {},
   "outputs": [
    {
     "data": {
      "text/html": [
       "<div>\n",
       "<style scoped>\n",
       "    .dataframe tbody tr th:only-of-type {\n",
       "        vertical-align: middle;\n",
       "    }\n",
       "\n",
       "    .dataframe tbody tr th {\n",
       "        vertical-align: top;\n",
       "    }\n",
       "\n",
       "    .dataframe thead th {\n",
       "        text-align: right;\n",
       "    }\n",
       "</style>\n",
       "<table border=\"1\" class=\"dataframe\">\n",
       "  <thead>\n",
       "    <tr style=\"text-align: right;\">\n",
       "      <th></th>\n",
       "      <th>EEID</th>\n",
       "      <th>Full Name</th>\n",
       "      <th>Job Title</th>\n",
       "      <th>Department</th>\n",
       "      <th>Business Unit</th>\n",
       "      <th>Gender</th>\n",
       "      <th>Ethnicity</th>\n",
       "      <th>Age</th>\n",
       "      <th>Hire Date</th>\n",
       "      <th>Annual Salary</th>\n",
       "      <th>Bonus %</th>\n",
       "      <th>Country</th>\n",
       "      <th>City</th>\n",
       "      <th>Exit Date</th>\n",
       "    </tr>\n",
       "  </thead>\n",
       "  <tbody>\n",
       "    <tr>\n",
       "      <th>0</th>\n",
       "      <td>E02387</td>\n",
       "      <td>Emily Davis</td>\n",
       "      <td>Sr. Manger</td>\n",
       "      <td>IT</td>\n",
       "      <td>Research &amp; Development</td>\n",
       "      <td>Female</td>\n",
       "      <td>Black</td>\n",
       "      <td>55</td>\n",
       "      <td>2016-04-08</td>\n",
       "      <td>141604</td>\n",
       "      <td>0.15</td>\n",
       "      <td>United States</td>\n",
       "      <td>Seattle</td>\n",
       "      <td>2021-10-16</td>\n",
       "    </tr>\n",
       "    <tr>\n",
       "      <th>1</th>\n",
       "      <td>E04105</td>\n",
       "      <td>Theodore Dinh</td>\n",
       "      <td>Technical Architect</td>\n",
       "      <td>IT</td>\n",
       "      <td>Manufacturing</td>\n",
       "      <td>Male</td>\n",
       "      <td>Asian</td>\n",
       "      <td>59</td>\n",
       "      <td>1997-11-29</td>\n",
       "      <td>99975</td>\n",
       "      <td>0.00</td>\n",
       "      <td>China</td>\n",
       "      <td>Chongqing</td>\n",
       "      <td>NaT</td>\n",
       "    </tr>\n",
       "    <tr>\n",
       "      <th>2</th>\n",
       "      <td>E02572</td>\n",
       "      <td>Luna Sanders</td>\n",
       "      <td>Director</td>\n",
       "      <td>Finance</td>\n",
       "      <td>Speciality Products</td>\n",
       "      <td>Female</td>\n",
       "      <td>Caucasian</td>\n",
       "      <td>50</td>\n",
       "      <td>2006-10-26</td>\n",
       "      <td>163099</td>\n",
       "      <td>0.20</td>\n",
       "      <td>United States</td>\n",
       "      <td>Chicago</td>\n",
       "      <td>NaT</td>\n",
       "    </tr>\n",
       "    <tr>\n",
       "      <th>3</th>\n",
       "      <td>E02832</td>\n",
       "      <td>Penelope Jordan</td>\n",
       "      <td>Computer Systems Manager</td>\n",
       "      <td>IT</td>\n",
       "      <td>Manufacturing</td>\n",
       "      <td>Female</td>\n",
       "      <td>Caucasian</td>\n",
       "      <td>26</td>\n",
       "      <td>2019-09-27</td>\n",
       "      <td>84913</td>\n",
       "      <td>0.07</td>\n",
       "      <td>United States</td>\n",
       "      <td>Chicago</td>\n",
       "      <td>NaT</td>\n",
       "    </tr>\n",
       "    <tr>\n",
       "      <th>4</th>\n",
       "      <td>E01639</td>\n",
       "      <td>Austin Vo</td>\n",
       "      <td>Sr. Analyst</td>\n",
       "      <td>Finance</td>\n",
       "      <td>Manufacturing</td>\n",
       "      <td>Male</td>\n",
       "      <td>Asian</td>\n",
       "      <td>55</td>\n",
       "      <td>1995-11-20</td>\n",
       "      <td>95409</td>\n",
       "      <td>0.00</td>\n",
       "      <td>United States</td>\n",
       "      <td>Phoenix</td>\n",
       "      <td>NaT</td>\n",
       "    </tr>\n",
       "    <tr>\n",
       "      <th>5</th>\n",
       "      <td>E00644</td>\n",
       "      <td>Joshua Gupta</td>\n",
       "      <td>Account Representative</td>\n",
       "      <td>Sales</td>\n",
       "      <td>Corporate</td>\n",
       "      <td>Male</td>\n",
       "      <td>Asian</td>\n",
       "      <td>57</td>\n",
       "      <td>2017-01-24</td>\n",
       "      <td>50994</td>\n",
       "      <td>0.00</td>\n",
       "      <td>China</td>\n",
       "      <td>Chongqing</td>\n",
       "      <td>NaT</td>\n",
       "    </tr>\n",
       "    <tr>\n",
       "      <th>6</th>\n",
       "      <td>E01550</td>\n",
       "      <td>Ruby Barnes</td>\n",
       "      <td>Manager</td>\n",
       "      <td>IT</td>\n",
       "      <td>Corporate</td>\n",
       "      <td>Female</td>\n",
       "      <td>Caucasian</td>\n",
       "      <td>27</td>\n",
       "      <td>2020-07-01</td>\n",
       "      <td>119746</td>\n",
       "      <td>0.10</td>\n",
       "      <td>United States</td>\n",
       "      <td>Phoenix</td>\n",
       "      <td>NaT</td>\n",
       "    </tr>\n",
       "    <tr>\n",
       "      <th>7</th>\n",
       "      <td>E04332</td>\n",
       "      <td>Luke Martin</td>\n",
       "      <td>Analyst</td>\n",
       "      <td>Finance</td>\n",
       "      <td>Manufacturing</td>\n",
       "      <td>Male</td>\n",
       "      <td>Black</td>\n",
       "      <td>25</td>\n",
       "      <td>2020-05-16</td>\n",
       "      <td>41336</td>\n",
       "      <td>0.00</td>\n",
       "      <td>United States</td>\n",
       "      <td>Miami</td>\n",
       "      <td>2021-05-20</td>\n",
       "    </tr>\n",
       "    <tr>\n",
       "      <th>8</th>\n",
       "      <td>E04533</td>\n",
       "      <td>Easton Bailey</td>\n",
       "      <td>Manager</td>\n",
       "      <td>Accounting</td>\n",
       "      <td>Manufacturing</td>\n",
       "      <td>Male</td>\n",
       "      <td>Caucasian</td>\n",
       "      <td>29</td>\n",
       "      <td>2019-01-25</td>\n",
       "      <td>113527</td>\n",
       "      <td>0.06</td>\n",
       "      <td>United States</td>\n",
       "      <td>Austin</td>\n",
       "      <td>NaT</td>\n",
       "    </tr>\n",
       "    <tr>\n",
       "      <th>9</th>\n",
       "      <td>E03838</td>\n",
       "      <td>Madeline Walker</td>\n",
       "      <td>Sr. Analyst</td>\n",
       "      <td>Finance</td>\n",
       "      <td>Speciality Products</td>\n",
       "      <td>Female</td>\n",
       "      <td>Caucasian</td>\n",
       "      <td>34</td>\n",
       "      <td>2018-06-13</td>\n",
       "      <td>77203</td>\n",
       "      <td>0.00</td>\n",
       "      <td>United States</td>\n",
       "      <td>Chicago</td>\n",
       "      <td>NaT</td>\n",
       "    </tr>\n",
       "  </tbody>\n",
       "</table>\n",
       "</div>"
      ],
      "text/plain": [
       "     EEID        Full Name                 Job Title  Department  \\\n",
       "0  E02387      Emily Davis                Sr. Manger          IT   \n",
       "1  E04105    Theodore Dinh       Technical Architect          IT   \n",
       "2  E02572     Luna Sanders                  Director     Finance   \n",
       "3  E02832  Penelope Jordan  Computer Systems Manager          IT   \n",
       "4  E01639        Austin Vo               Sr. Analyst     Finance   \n",
       "5  E00644     Joshua Gupta    Account Representative       Sales   \n",
       "6  E01550      Ruby Barnes                   Manager          IT   \n",
       "7  E04332      Luke Martin                   Analyst     Finance   \n",
       "8  E04533    Easton Bailey                   Manager  Accounting   \n",
       "9  E03838  Madeline Walker               Sr. Analyst     Finance   \n",
       "\n",
       "            Business Unit  Gender  Ethnicity  Age  Hire Date  Annual Salary  \\\n",
       "0  Research & Development  Female      Black   55 2016-04-08         141604   \n",
       "1           Manufacturing    Male      Asian   59 1997-11-29          99975   \n",
       "2     Speciality Products  Female  Caucasian   50 2006-10-26         163099   \n",
       "3           Manufacturing  Female  Caucasian   26 2019-09-27          84913   \n",
       "4           Manufacturing    Male      Asian   55 1995-11-20          95409   \n",
       "5               Corporate    Male      Asian   57 2017-01-24          50994   \n",
       "6               Corporate  Female  Caucasian   27 2020-07-01         119746   \n",
       "7           Manufacturing    Male      Black   25 2020-05-16          41336   \n",
       "8           Manufacturing    Male  Caucasian   29 2019-01-25         113527   \n",
       "9     Speciality Products  Female  Caucasian   34 2018-06-13          77203   \n",
       "\n",
       "   Bonus %        Country       City  Exit Date  \n",
       "0     0.15  United States    Seattle 2021-10-16  \n",
       "1     0.00          China  Chongqing        NaT  \n",
       "2     0.20  United States    Chicago        NaT  \n",
       "3     0.07  United States    Chicago        NaT  \n",
       "4     0.00  United States    Phoenix        NaT  \n",
       "5     0.00          China  Chongqing        NaT  \n",
       "6     0.10  United States    Phoenix        NaT  \n",
       "7     0.00  United States      Miami 2021-05-20  \n",
       "8     0.06  United States     Austin        NaT  \n",
       "9     0.00  United States    Chicago        NaT  "
      ]
     },
     "execution_count": 28,
     "metadata": {},
     "output_type": "execute_result"
    }
   ],
   "source": [
    "import pandas as pd \n",
    "data= pd.read_excel(\"C:/Users/Pooja/Downloads/ESD.xlsx\")\n",
    "data\n",
    "data.head(10)\n"
   ]
  },
  {
   "cell_type": "code",
   "execution_count": 16,
   "id": "e379f365-ee6f-4fa8-8d38-d5cab8216e09",
   "metadata": {},
   "outputs": [
    {
     "name": "stdout",
     "output_type": "stream",
     "text": [
      "                 Gender\n",
      "Department             \n",
      "Accounting           96\n",
      "Engineering         158\n",
      "Finance             120\n",
      "Human Resources     125\n",
      "IT                  241\n",
      "Marketing           120\n",
      "Sales               140\n"
     ]
    }
   ],
   "source": [
    "gp=data.groupby(\"Department\").agg({\"Gender\":\"count\"})\n",
    "print(gp)"
   ]
  },
  {
   "cell_type": "code",
   "execution_count": 19,
   "id": "e7410ed4-34a0-4f73-83b7-40099160ea10",
   "metadata": {},
   "outputs": [
    {
     "name": "stdout",
     "output_type": "stream",
     "text": [
      "                                Gender\n",
      "Job Title                             \n",
      "Account Representative              21\n",
      "Analyst                             51\n",
      "Analyst II                          53\n",
      "Automation Engineer                  7\n",
      "Business Partner                    19\n",
      "Cloud Infrastructure Architect      15\n",
      "Computer Systems Manager            21\n",
      "Controls Engineer                   15\n",
      "Development Engineer                19\n",
      "Director                           121\n",
      "Engineering Manager                 20\n",
      "Enterprise Architect                18\n",
      "Field Engineer                      21\n",
      "HRIS Analyst                        16\n",
      "IT Coordinator                      11\n",
      "IT Systems Architect                12\n",
      "Manager                             98\n",
      "Network Administrator               10\n",
      "Network Architect                   18\n",
      "Network Engineer                     7\n",
      "Operations Engineer                 12\n",
      "Quality Engineer                    20\n",
      "Service Desk Analyst                10\n",
      "Solutions Architect                 15\n",
      "Sr. Account Representative           9\n",
      "Sr. Analyst                         70\n",
      "Sr. Business Partner                17\n",
      "Sr. Manger                         110\n",
      "System Administrator                15\n",
      "Systems Analyst                     15\n",
      "Technical Architect                 17\n",
      "Test Engineer                       12\n",
      "Vice President                     105\n"
     ]
    }
   ],
   "source": [
    "gp=data.groupby(\"Job Title\").agg({\"Gender\":\"count\"})\n",
    "print(gp)"
   ]
  },
  {
   "cell_type": "code",
   "execution_count": 20,
   "id": "47ee5817-8abd-4132-a4a5-a776af8fdaed",
   "metadata": {},
   "outputs": [
    {
     "name": "stdout",
     "output_type": "stream",
     "text": [
      "        EEID\n",
      "Gender      \n",
      "Female   518\n",
      "Male     482\n"
     ]
    }
   ],
   "source": [
    "gp=data.groupby(\"Gender\").agg({\"EEID\":\"count\"})\n",
    "print(gp)      #here group by performed on gender "
   ]
  },
  {
   "cell_type": "code",
   "execution_count": 24,
   "id": "8e92fc1f-f37a-4df0-909a-32b379865a0b",
   "metadata": {},
   "outputs": [
    {
     "name": "stdout",
     "output_type": "stream",
     "text": [
      "                        EEID\n",
      "Department      Gender      \n",
      "Accounting      Female    53\n",
      "                Male      43\n",
      "Engineering     Female    80\n",
      "                Male      78\n",
      "Finance         Female    69\n",
      "                Male      51\n",
      "Human Resources Female    64\n",
      "                Male      61\n",
      "IT              Female   119\n",
      "                Male     122\n",
      "Marketing       Female    57\n",
      "                Male      63\n",
      "Sales           Female    76\n",
      "                Male      64\n"
     ]
    }
   ],
   "source": [
    "gp=data.groupby([\"Department\",\"Gender\"]).agg({\"EEID\":\"count\"}) # WHEN WE PASS TWO GROUP BY ARGUMENT THEN WE USE SQUARE BRACKET WITHOUT THIS WE GET ERROR SO REMEBER THIS\n",
    "print(gp)"
   ]
  },
  {
   "cell_type": "code",
   "execution_count": 26,
   "id": "934217ab-296c-4fc9-ba19-f1088afc497d",
   "metadata": {},
   "outputs": [
    {
     "data": {
      "text/html": [
       "<div>\n",
       "<style scoped>\n",
       "    .dataframe tbody tr th:only-of-type {\n",
       "        vertical-align: middle;\n",
       "    }\n",
       "\n",
       "    .dataframe tbody tr th {\n",
       "        vertical-align: top;\n",
       "    }\n",
       "\n",
       "    .dataframe thead th {\n",
       "        text-align: right;\n",
       "    }\n",
       "</style>\n",
       "<table border=\"1\" class=\"dataframe\">\n",
       "  <thead>\n",
       "    <tr style=\"text-align: right;\">\n",
       "      <th></th>\n",
       "      <th>Age</th>\n",
       "    </tr>\n",
       "    <tr>\n",
       "      <th>Country</th>\n",
       "      <th></th>\n",
       "    </tr>\n",
       "  </thead>\n",
       "  <tbody>\n",
       "    <tr>\n",
       "      <th>Brazil</th>\n",
       "      <td>43.654676</td>\n",
       "    </tr>\n",
       "    <tr>\n",
       "      <th>China</th>\n",
       "      <td>45.389908</td>\n",
       "    </tr>\n",
       "    <tr>\n",
       "      <th>United States</th>\n",
       "      <td>44.197512</td>\n",
       "    </tr>\n",
       "  </tbody>\n",
       "</table>\n",
       "</div>"
      ],
      "text/plain": [
       "                     Age\n",
       "Country                 \n",
       "Brazil         43.654676\n",
       "China          45.389908\n",
       "United States  44.197512"
      ]
     },
     "execution_count": 26,
     "metadata": {},
     "output_type": "execute_result"
    }
   ],
   "source": [
    "gp1=data.groupby(\"Country\").agg({\"Age\":\"mean\"})\n",
    "gp1"
   ]
  },
  {
   "cell_type": "code",
   "execution_count": 34,
   "id": "dad96b99-6595-4227-ac24-a81f019e258d",
   "metadata": {},
   "outputs": [
    {
     "data": {
      "text/html": [
       "<div>\n",
       "<style scoped>\n",
       "    .dataframe tbody tr th:only-of-type {\n",
       "        vertical-align: middle;\n",
       "    }\n",
       "\n",
       "    .dataframe tbody tr th {\n",
       "        vertical-align: top;\n",
       "    }\n",
       "\n",
       "    .dataframe thead th {\n",
       "        text-align: right;\n",
       "    }\n",
       "</style>\n",
       "<table border=\"1\" class=\"dataframe\">\n",
       "  <thead>\n",
       "    <tr style=\"text-align: right;\">\n",
       "      <th></th>\n",
       "      <th>Annual Salary</th>\n",
       "    </tr>\n",
       "    <tr>\n",
       "      <th>Country</th>\n",
       "      <th></th>\n",
       "    </tr>\n",
       "  </thead>\n",
       "  <tbody>\n",
       "    <tr>\n",
       "      <th>Brazil</th>\n",
       "      <td>258426</td>\n",
       "    </tr>\n",
       "    <tr>\n",
       "      <th>China</th>\n",
       "      <td>257194</td>\n",
       "    </tr>\n",
       "    <tr>\n",
       "      <th>United States</th>\n",
       "      <td>258498</td>\n",
       "    </tr>\n",
       "  </tbody>\n",
       "</table>\n",
       "</div>"
      ],
      "text/plain": [
       "               Annual Salary\n",
       "Country                     \n",
       "Brazil                258426\n",
       "China                 257194\n",
       "United States         258498"
      ]
     },
     "execution_count": 34,
     "metadata": {},
     "output_type": "execute_result"
    }
   ],
   "source": [
    "\n",
    "\n",
    "import pandas as pd \n",
    "data= pd.read_excel(\"C:/Users/Pooja/Downloads/ESD.xlsx\")\n",
    "data\n",
    "data.head(10)\n",
    "gp1=data.groupby(\"Country\").agg({\"Annual Salary\":\"max\"})\n",
    "gp1"
   ]
  },
  {
   "cell_type": "code",
   "execution_count": 36,
   "id": "11ea7813-c3c0-4ac5-bc23-77873ccff1a4",
   "metadata": {},
   "outputs": [
    {
     "data": {
      "text/html": [
       "<div>\n",
       "<style scoped>\n",
       "    .dataframe tbody tr th:only-of-type {\n",
       "        vertical-align: middle;\n",
       "    }\n",
       "\n",
       "    .dataframe tbody tr th {\n",
       "        vertical-align: top;\n",
       "    }\n",
       "\n",
       "    .dataframe thead th {\n",
       "        text-align: right;\n",
       "    }\n",
       "</style>\n",
       "<table border=\"1\" class=\"dataframe\">\n",
       "  <thead>\n",
       "    <tr style=\"text-align: right;\">\n",
       "      <th></th>\n",
       "      <th></th>\n",
       "      <th>Annual Salary</th>\n",
       "    </tr>\n",
       "    <tr>\n",
       "      <th>Country</th>\n",
       "      <th>Gender</th>\n",
       "      <th></th>\n",
       "    </tr>\n",
       "  </thead>\n",
       "  <tbody>\n",
       "    <tr>\n",
       "      <th rowspan=\"2\" valign=\"top\">Brazil</th>\n",
       "      <th>Female</th>\n",
       "      <td>258426</td>\n",
       "    </tr>\n",
       "    <tr>\n",
       "      <th>Male</th>\n",
       "      <td>249506</td>\n",
       "    </tr>\n",
       "    <tr>\n",
       "      <th rowspan=\"2\" valign=\"top\">China</th>\n",
       "      <th>Female</th>\n",
       "      <td>249686</td>\n",
       "    </tr>\n",
       "    <tr>\n",
       "      <th>Male</th>\n",
       "      <td>257194</td>\n",
       "    </tr>\n",
       "    <tr>\n",
       "      <th rowspan=\"2\" valign=\"top\">United States</th>\n",
       "      <th>Female</th>\n",
       "      <td>258498</td>\n",
       "    </tr>\n",
       "    <tr>\n",
       "      <th>Male</th>\n",
       "      <td>258081</td>\n",
       "    </tr>\n",
       "  </tbody>\n",
       "</table>\n",
       "</div>"
      ],
      "text/plain": [
       "                      Annual Salary\n",
       "Country       Gender               \n",
       "Brazil        Female         258426\n",
       "              Male           249506\n",
       "China         Female         249686\n",
       "              Male           257194\n",
       "United States Female         258498\n",
       "              Male           258081"
      ]
     },
     "execution_count": 36,
     "metadata": {},
     "output_type": "execute_result"
    }
   ],
   "source": [
    "gp2=data.groupby([\"Country\", \"Gender\"]).agg({\"Annual Salary\":\"max\"})\n",
    "gp2"
   ]
  },
  {
   "cell_type": "code",
   "execution_count": 37,
   "id": "f2319049-491d-45be-88d5-b2f3aecc87c5",
   "metadata": {},
   "outputs": [
    {
     "data": {
      "text/html": [
       "<div>\n",
       "<style scoped>\n",
       "    .dataframe tbody tr th:only-of-type {\n",
       "        vertical-align: middle;\n",
       "    }\n",
       "\n",
       "    .dataframe tbody tr th {\n",
       "        vertical-align: top;\n",
       "    }\n",
       "\n",
       "    .dataframe thead th {\n",
       "        text-align: right;\n",
       "    }\n",
       "</style>\n",
       "<table border=\"1\" class=\"dataframe\">\n",
       "  <thead>\n",
       "    <tr style=\"text-align: right;\">\n",
       "      <th></th>\n",
       "      <th></th>\n",
       "      <th>Annual Salary</th>\n",
       "      <th>Age</th>\n",
       "    </tr>\n",
       "    <tr>\n",
       "      <th>Country</th>\n",
       "      <th>Gender</th>\n",
       "      <th></th>\n",
       "      <th></th>\n",
       "    </tr>\n",
       "  </thead>\n",
       "  <tbody>\n",
       "    <tr>\n",
       "      <th rowspan=\"2\" valign=\"top\">Brazil</th>\n",
       "      <th>Female</th>\n",
       "      <td>258426</td>\n",
       "      <td>25</td>\n",
       "    </tr>\n",
       "    <tr>\n",
       "      <th>Male</th>\n",
       "      <td>249506</td>\n",
       "      <td>26</td>\n",
       "    </tr>\n",
       "    <tr>\n",
       "      <th rowspan=\"2\" valign=\"top\">China</th>\n",
       "      <th>Female</th>\n",
       "      <td>249686</td>\n",
       "      <td>25</td>\n",
       "    </tr>\n",
       "    <tr>\n",
       "      <th>Male</th>\n",
       "      <td>257194</td>\n",
       "      <td>25</td>\n",
       "    </tr>\n",
       "    <tr>\n",
       "      <th rowspan=\"2\" valign=\"top\">United States</th>\n",
       "      <th>Female</th>\n",
       "      <td>258498</td>\n",
       "      <td>25</td>\n",
       "    </tr>\n",
       "    <tr>\n",
       "      <th>Male</th>\n",
       "      <td>258081</td>\n",
       "      <td>25</td>\n",
       "    </tr>\n",
       "  </tbody>\n",
       "</table>\n",
       "</div>"
      ],
      "text/plain": [
       "                      Annual Salary  Age\n",
       "Country       Gender                    \n",
       "Brazil        Female         258426   25\n",
       "              Male           249506   26\n",
       "China         Female         249686   25\n",
       "              Male           257194   25\n",
       "United States Female         258498   25\n",
       "              Male           258081   25"
      ]
     },
     "execution_count": 37,
     "metadata": {},
     "output_type": "execute_result"
    }
   ],
   "source": [
    "gp3=data.groupby([\"Country\", \"Gender\"]).agg({\"Annual Salary\":\"max\",\"Age\":\"min\"})\n",
    "gp3"
   ]
  },
  {
   "cell_type": "code",
   "execution_count": 38,
   "id": "6fd533a4-9c40-4d1c-b345-12f0bd0c160d",
   "metadata": {},
   "outputs": [],
   "source": [
    " #merge concatenate and join in pandas "
   ]
  },
  {
   "cell_type": "code",
   "execution_count": 2,
   "id": "b9d67dd0-e111-45b6-ab57-ee7183a02196",
   "metadata": {},
   "outputs": [
    {
     "name": "stdout",
     "output_type": "stream",
     "text": [
      "  Emp Id    Names  Age\n",
      "0    E01      ram   34\n",
      "1    E02    shyam   56\n",
      "2    E03     ramu   23\n",
      "3    E04  shayamu   44\n",
      "4    E05     Ravi   32\n",
      "5    E06   vishal   36\n",
      "  Emp Id  salary\n",
      "0    E01   45000\n",
      "1    E02   56000\n",
      "2    E03   34000\n",
      "3    E04   30000\n",
      "4    E05   50000\n",
      "5    E06   20000\n"
     ]
    }
   ],
   "source": [
    "import pandas as pd \n",
    "data1={\"Emp Id\":[\"E01\",\"E02\",\"E03\",\"E04\",\"E05\",\"E06\"],\n",
    "       \"Names\":[\"ram\",\"shyam\",\"ramu\",\"shayamu\",\"Ravi\",\"vishal\"],\n",
    "       \"Age\":[34,56,23,44,32,36]}\n",
    "data2={\"Emp Id\":[\"E01\",\"E02\",\"E03\",\"E04\",\"E05\",\"E06\"],\n",
    "       \"salary\":[45000,56000,34000,30000,50000,20000]}\n",
    "df1=pd.DataFrame(data1)\n",
    "df2=pd.DataFrame(data2)\n",
    "print (df1)\n",
    "print(df2)\n",
    "\n",
    "                                                                                                                                                                                                                                                                                "
   ]
  },
  {
   "cell_type": "code",
   "execution_count": 4,
   "id": "b6c0f213-4ffd-40fd-81b1-29c01f312690",
   "metadata": {},
   "outputs": [
    {
     "name": "stdout",
     "output_type": "stream",
     "text": [
      "  Emp Id    Names  Age  salary\n",
      "0    E01      ram   34   45000\n",
      "1    E02    shyam   56   56000\n",
      "2    E03     ramu   23   34000\n",
      "3    E04  shayamu   44   30000\n",
      "4    E05     Ravi   32   50000\n",
      "5    E06   vishal   36   20000\n"
     ]
    }
   ],
   "source": [
    "print(pd.merge(df1,df2,on= \"Emp Id\"))"
   ]
  },
  {
   "cell_type": "code",
   "execution_count": 5,
   "id": "f1b04946-75ab-49bd-8e02-8942ea4b3df8",
   "metadata": {},
   "outputs": [
    {
     "name": "stdout",
     "output_type": "stream",
     "text": [
      "  Emp Id    Names  Age\n",
      "0    E01      ram   34\n",
      "1    E02    shyam   56\n",
      "2    E03     ramu   23\n",
      "3    E04  shayamu   44\n",
      "4    E05     Ravi   32\n",
      "5    E06   vishal   36\n",
      "  Emp Id  salary\n",
      "0    E01   45000\n",
      "1    E02   56000\n",
      "2    E03   34000\n",
      "3    E08   30000\n",
      "4    E05   50000\n",
      "5    E09   20000\n"
     ]
    }
   ],
   "source": [
    "import pandas as pd \n",
    "data1={\"Emp Id\":[\"E01\",\"E02\",\"E03\",\"E04\",\"E05\",\"E06\"],\n",
    "       \"Names\":[\"ram\",\"shyam\",\"ramu\",\"shayamu\",\"Ravi\",\"vishal\"],\n",
    "       \"Age\":[34,56,23,44,32,36]}\n",
    "data2={\"Emp Id\":[\"E01\",\"E02\",\"E03\",\"E08\",\"E05\",\"E09\"],\n",
    "       \"salary\":[45000,56000,34000,30000,50000,20000]}\n",
    "df1=pd.DataFrame(data1)\n",
    "df2=pd.DataFrame(data2)\n",
    "print (df1)\n",
    "print(df2)"
   ]
  },
  {
   "cell_type": "code",
   "execution_count": 6,
   "id": "47703344-bd97-4e7d-9e96-b1725b6b0a66",
   "metadata": {},
   "outputs": [
    {
     "name": "stdout",
     "output_type": "stream",
     "text": [
      "  Emp Id    Names  Age   salary\n",
      "0    E01      ram   34  45000.0\n",
      "1    E02    shyam   56  56000.0\n",
      "2    E03     ramu   23  34000.0\n",
      "3    E04  shayamu   44      NaN\n",
      "4    E05     Ravi   32  50000.0\n",
      "5    E06   vishal   36      NaN\n"
     ]
    }
   ],
   "source": [
    "print(pd.merge(left=df1,right=df2,on= \"Emp Id\",how=\"left\"))"
   ]
  },
  {
   "cell_type": "code",
   "execution_count": 7,
   "id": "fd572f8a-80b1-45ca-9abb-5eeeda3cf743",
   "metadata": {},
   "outputs": [
    {
     "name": "stdout",
     "output_type": "stream",
     "text": [
      "  Emp Id  Names   Age  salary\n",
      "0    E01    ram  34.0   45000\n",
      "1    E02  shyam  56.0   56000\n",
      "2    E03   ramu  23.0   34000\n",
      "3    E08    NaN   NaN   30000\n",
      "4    E05   Ravi  32.0   50000\n",
      "5    E09    NaN   NaN   20000\n"
     ]
    }
   ],
   "source": [
    "print(pd.merge(left=df1,right=df2,on= \"Emp Id\",how=\"right\"))"
   ]
  },
  {
   "cell_type": "code",
   "execution_count": 18,
   "id": "68eb97e2-e1fd-4b9c-8273-df8f0da239fb",
   "metadata": {},
   "outputs": [
    {
     "ename": "AttributeError",
     "evalue": "module 'pandas' has no attribute 'join'",
     "output_type": "error",
     "traceback": [
      "\u001b[1;31m---------------------------------------------------------------------------\u001b[0m",
      "\u001b[1;31mAttributeError\u001b[0m                            Traceback (most recent call last)",
      "Cell \u001b[1;32mIn[18], line 2\u001b[0m\n\u001b[0;32m      1\u001b[0m \u001b[38;5;28;01mimport\u001b[39;00m \u001b[38;5;21;01mpandas\u001b[39;00m \u001b[38;5;28;01mas\u001b[39;00m \u001b[38;5;21;01mpd\u001b[39;00m\n\u001b[1;32m----> 2\u001b[0m \u001b[38;5;28mprint\u001b[39m(\u001b[43mpd\u001b[49m\u001b[38;5;241;43m.\u001b[39;49m\u001b[43mjoin\u001b[49m([df1,df2]))\n",
      "\u001b[1;31mAttributeError\u001b[0m: module 'pandas' has no attribute 'join'"
     ]
    }
   ],
   "source": [
    "\n",
    "import pandas as pd\n",
    "print(pd.join([df1,df2]))"
   ]
  },
  {
   "cell_type": "code",
   "execution_count": 12,
   "id": "ae053251-c4d8-4880-bfc3-4d04d4c3bc42",
   "metadata": {},
   "outputs": [
    {
     "name": "stdout",
     "output_type": "stream",
     "text": [
      "  Emp Id    Names  Age\n",
      "0    E01      ram   34\n",
      "1    E02    shyam   56\n",
      "2    E03     ramu   23\n",
      "3    E04  shayamu   44\n",
      "4    E05     Ravi   32\n",
      "5    E06   vishal   36\n",
      "  Emp Id    Names  Age\n",
      "0    E07     riya   34\n",
      "1    E08  sheerya   56\n",
      "2    E09     ritu   23\n",
      "3    E10   soniya   44\n",
      "4    E11   Ramesh   32\n",
      "5    E12     vasu   36\n"
     ]
    }
   ],
   "source": [
    "                                                                                                                                                                                                                                                                                                                                                                                                                                                                                                                                                                                                    import pandas as pd \n",
    "data1={\"Emp Id\":[\"E01\",\"E02\",\"E03\",\"E04\",\"E05\",\"E06\"],\n",
    "       \"Names\":[\"ram\",\"shyam\",\"ramu\",\"shayamu\",\"Ravi\",\"vishal\"],\n",
    "       \"Age\":[34,56,23,44,32,36]} \n",
    "data2={\"Emp Id\":[\"E07\",\"E08\",\"E09\",\"E10\",\"E11\",\"E12\"],\n",
    "       \"Names\":[\"riya\",\"sheerya\",\"ritu\",\"soniya\",\"Ramesh\",\"vasu\"],\n",
    "       \"Age\":[34,56,23,44,32,36]}\n",
    "df1=pd.DataFrame(data1)\n",
    "df2=pd.DataFrame(data2)\n",
    "print (df1)\n",
    "print(df2)"
   ]
  },
  {
   "cell_type": "code",
   "execution_count": 17,
   "id": "1b2b91b2-9c3b-4670-9cbe-ea9434b4ab34",
   "metadata": {},
   "outputs": [
    {
     "name": "stdout",
     "output_type": "stream",
     "text": [
      "  Emp Id    Names  Age\n",
      "0    E01      ram   34\n",
      "1    E02    shyam   56\n",
      "2    E03     ramu   23\n",
      "3    E04  shayamu   44\n",
      "4    E05     Ravi   32\n",
      "5    E06   vishal   36\n",
      "0    E07     riya   34\n",
      "1    E08  sheerya   56\n",
      "2    E09     ritu   23\n",
      "3    E10   soniya   44\n",
      "4    E11   Ramesh   32\n",
      "5    E12     vasu   36\n"
     ]
    }
   ],
   "source": [
    "print(pd.concat([df1,df2])) #concatenat in pandas"
   ]
  },
  {
   "cell_type": "code",
   "execution_count": 19,
   "id": "e9c80285-5822-442c-9c3c-b44a8fd5f495",
   "metadata": {},
   "outputs": [],
   "source": [
    "#pandas compare dataframes\n",
    "#\n"
   ]
  },
  {
   "cell_type": "code",
   "execution_count": 23,
   "id": "b0818980-72b5-4856-91c0-4fbe995efbd5",
   "metadata": {},
   "outputs": [
    {
     "name": "stdout",
     "output_type": "stream",
     "text": [
      "   Fruits  price  quantity\n",
      "0   mango    100        15\n",
      "1   apple    150        10\n",
      "2  banana     50        10\n",
      "3  papaya     35         3\n"
     ]
    }
   ],
   "source": [
    "import pandas as pd\n",
    "dict={\"Fruits\":[\"mango\",\"apple\",\"banana\" ,\"papaya\"],\n",
    "      \"price\": [100,150,50,35],\n",
    "      \"quantity\":[15,10,10,3]}\n",
    "df1=pd.DataFrame(dict)\n",
    "print (df1)\n",
    "      "
   ]
  },
  {
   "cell_type": "code",
   "execution_count": 24,
   "id": "e5bb2faa-0bdd-4a93-aa5d-507e50d53b7d",
   "metadata": {},
   "outputs": [
    {
     "data": {
      "text/html": [
       "<div>\n",
       "<style scoped>\n",
       "    .dataframe tbody tr th:only-of-type {\n",
       "        vertical-align: middle;\n",
       "    }\n",
       "\n",
       "    .dataframe tbody tr th {\n",
       "        vertical-align: top;\n",
       "    }\n",
       "\n",
       "    .dataframe thead th {\n",
       "        text-align: right;\n",
       "    }\n",
       "</style>\n",
       "<table border=\"1\" class=\"dataframe\">\n",
       "  <thead>\n",
       "    <tr style=\"text-align: right;\">\n",
       "      <th></th>\n",
       "      <th>Fruits</th>\n",
       "      <th>price</th>\n",
       "      <th>quantity</th>\n",
       "    </tr>\n",
       "  </thead>\n",
       "  <tbody>\n",
       "    <tr>\n",
       "      <th>0</th>\n",
       "      <td>mango</td>\n",
       "      <td>100</td>\n",
       "      <td>15</td>\n",
       "    </tr>\n",
       "    <tr>\n",
       "      <th>1</th>\n",
       "      <td>apple</td>\n",
       "      <td>150</td>\n",
       "      <td>10</td>\n",
       "    </tr>\n",
       "    <tr>\n",
       "      <th>2</th>\n",
       "      <td>banana</td>\n",
       "      <td>50</td>\n",
       "      <td>10</td>\n",
       "    </tr>\n",
       "    <tr>\n",
       "      <th>3</th>\n",
       "      <td>papaya</td>\n",
       "      <td>35</td>\n",
       "      <td>3</td>\n",
       "    </tr>\n",
       "  </tbody>\n",
       "</table>\n",
       "</div>"
      ],
      "text/plain": [
       "   Fruits  price  quantity\n",
       "0   mango    100        15\n",
       "1   apple    150        10\n",
       "2  banana     50        10\n",
       "3  papaya     35         3"
      ]
     },
     "execution_count": 24,
     "metadata": {},
     "output_type": "execute_result"
    }
   ],
   "source": [
    "df2= df1.copy()\n",
    "df2"
   ]
  },
  {
   "cell_type": "code",
   "execution_count": 26,
   "id": "06336ae5-fac9-4319-8bfc-8ebc93ec4ae3",
   "metadata": {},
   "outputs": [
    {
     "name": "stdout",
     "output_type": "stream",
     "text": [
      "   Fruits  price  quantity\n",
      "0   mango    120        15\n",
      "1   apple    175        10\n",
      "2  banana     50        10\n",
      "3  papaya     30         3\n"
     ]
    }
   ],
   "source": [
    "df2.loc[0,\"price\"]=120\n",
    "df2.loc[1,\"price\"]=175\n",
    "df2.loc[3,\"price\"]=30\n",
    "df.loc[0,\"quantity\"]=12\n",
    "df.loc[1,\"quantity\"]=15\n",
    "df.loc[3,\"quantity\"]=5\n",
    "print (df2)\n",
    "\n",
    "\n",
    "\n",
    "\n"
   ]
  },
  {
   "cell_type": "code",
   "execution_count": 30,
   "id": "e1277d57-7c50-4d1e-aac4-15254aff5767",
   "metadata": {},
   "outputs": [
    {
     "name": "stdout",
     "output_type": "stream",
     "text": [
      "   price       \n",
      "    self  other\n",
      "0  100.0  120.0\n",
      "1  150.0  175.0\n",
      "3   35.0   30.0\n"
     ]
    }
   ],
   "source": [
    "print(df1.compare(df2))"
   ]
  },
  {
   "cell_type": "code",
   "execution_count": 29,
   "id": "ad13d0fc-10a1-4ebd-9719-1d076ed46b3d",
   "metadata": {},
   "outputs": [
    {
     "name": "stdout",
     "output_type": "stream",
     "text": [
      "         price\n",
      "0 self   100.0\n",
      "  other  120.0\n",
      "1 self   150.0\n",
      "  other  175.0\n",
      "3 self    35.0\n",
      "  other   30.0\n"
     ]
    }
   ],
   "source": [
    "print(df1.compare(df2,align_axis=0))"
   ]
  },
  {
   "cell_type": "code",
   "execution_count": 35,
   "id": "629e24c0-7aac-4407-9e39-7772d7debf48",
   "metadata": {},
   "outputs": [
    {
     "name": "stdout",
     "output_type": "stream",
     "text": [
      "         price\n",
      "0 self   100.0\n",
      "  other  120.0\n",
      "1 self   150.0\n",
      "  other  175.0\n",
      "3 self    35.0\n",
      "  other   30.0\n"
     ]
    }
   ],
   "source": [
    "print(df1.compare(df2,align_axis=0))"
   ]
  },
  {
   "cell_type": "code",
   "execution_count": 34,
   "id": "c986a2b0-a35d-4b23-bbb7-6e7448d60017",
   "metadata": {},
   "outputs": [
    {
     "name": "stdout",
     "output_type": "stream",
     "text": [
      "  Fruits        price        quantity      \n",
      "    self other   self  other     self other\n",
      "0    NaN   NaN  100.0  120.0      NaN   NaN\n",
      "1    NaN   NaN  150.0  175.0      NaN   NaN\n",
      "2    NaN   NaN    NaN    NaN      NaN   NaN\n",
      "3    NaN   NaN   35.0   30.0      NaN   NaN\n"
     ]
    }
   ],
   "source": [
    "print(df1.compare(df2,keep_shape=True))"
   ]
  },
  {
   "cell_type": "code",
   "execution_count": 36,
   "id": "b0a394c4-1243-43fe-9995-a089c12225a9",
   "metadata": {},
   "outputs": [
    {
     "name": "stdout",
     "output_type": "stream",
     "text": [
      "   price       \n",
      "    self  other\n",
      "0  100.0  120.0\n",
      "1  150.0  175.0\n",
      "3   35.0   30.0\n"
     ]
    }
   ],
   "source": [
    "print(df1.compare(df2,keep_shape=False))"
   ]
  },
  {
   "cell_type": "code",
   "execution_count": 37,
   "id": "d55bb70f-0dcf-45c3-9637-cdf4b02024dc",
   "metadata": {},
   "outputs": [],
   "source": [
    "#pivoting and melting dataframes"
   ]
  },
  {
   "cell_type": "code",
   "execution_count": 41,
   "id": "06c34109-c3de-4085-a884-292a27c91433",
   "metadata": {},
   "outputs": [
    {
     "name": "stdout",
     "output_type": "stream",
     "text": [
      "  Emp Id    Names  Age\n",
      "0    E01      ram   34\n",
      "1    E02    shyam   56\n",
      "2    E03     ramu   23\n",
      "3    E04  shayamu   44\n",
      "4    E05     Ravi   32\n",
      "5    E06   vishal   36\n"
     ]
    }
   ],
   "source": [
    "import pandas as pd\n",
    "data1={\"Emp Id\":[\"E01\",\"E02\",\"E03\",\"E04\",\"E05\",\"E06\"],\n",
    "       \"Names\":[\"ram\",\"shyam\",\"ramu\",\"shayamu\",\"Ravi\",\"vishal\"],\n",
    "       \"Age\":[34,56,23,44,32,36]} \n",
    "df=pd.DataFrame(data1)\n",
    "print(df)"
   ]
  },
  {
   "cell_type": "code",
   "execution_count": 5,
   "id": "71da4803-de03-4470-a28b-589e52c55579",
   "metadata": {},
   "outputs": [],
   "source": [
    "#melting concept in pandas "
   ]
  },
  {
   "cell_type": "code",
   "execution_count": 6,
   "id": "ff56097a-f750-4ea2-bc33-95c2d54da94d",
   "metadata": {},
   "outputs": [
    {
     "name": "stdout",
     "output_type": "stream",
     "text": [
      "  Emp Id    Names  Age\n",
      "0    E01      ram   34\n",
      "1    E02    shyam   56\n",
      "2    E03     ramu   23\n",
      "3    E04  shayamu   44\n",
      "4    E05     Ravi   32\n",
      "5    E06   vishal   36\n"
     ]
    }
   ],
   "source": [
    "import pandas as pd\n",
    "data1={\"Emp Id\":[\"E01\",\"E02\",\"E03\",\"E04\",\"E05\",\"E06\"],\n",
    "       \"Names\":[\"ram\",\"shyam\",\"ramu\",\"shayamu\",\"Ravi\",\"vishal\"],\n",
    "       \"Age\":[34,56,23,44,32,36]} \n",
    "df=pd.DataFrame(data1)\n",
    "print(df)"
   ]
  },
  {
   "cell_type": "code",
   "execution_count": 10,
   "id": "beedd061-7cc7-43e9-af69-8162f6a4e004",
   "metadata": {},
   "outputs": [
    {
     "name": "stdout",
     "output_type": "stream",
     "text": [
      "     Names variable  value\n",
      "0      ram      Age     34\n",
      "1    shyam      Age     56\n",
      "2     ramu      Age     23\n",
      "3  shayamu      Age     44\n",
      "4     Ravi      Age     32\n",
      "5   vishal      Age     36\n"
     ]
    }
   ],
   "source": [
    "print (pd.melt(df,id_vars=[\"Names\"],value_vars=[\"Age\"]))"
   ]
  },
  {
   "cell_type": "code",
   "execution_count": 12,
   "id": "ca37c575-63dc-4a95-92cf-e165552453a0",
   "metadata": {},
   "outputs": [
    {
     "name": "stdout",
     "output_type": "stream",
     "text": [
      "    Age variable    value\n",
      "0    34    Names      ram\n",
      "1    56    Names    shyam\n",
      "2    23    Names     ramu\n",
      "3    44    Names  shayamu\n",
      "4    32    Names     Ravi\n",
      "5    36    Names   vishal\n",
      "6    34   Emp Id      E01\n",
      "7    56   Emp Id      E02\n",
      "8    23   Emp Id      E03\n",
      "9    44   Emp Id      E04\n",
      "10   32   Emp Id      E05\n",
      "11   36   Emp Id      E06\n"
     ]
    }
   ],
   "source": [
    "print (pd.melt(df,id_vars=[\"Age\"],value_vars=[\"Names\",\"Emp Id\"]))"
   ]
  },
  {
   "cell_type": "code",
   "execution_count": 13,
   "id": "d74858d9-a66d-4082-91b7-373a9bc275fe",
   "metadata": {},
   "outputs": [
    {
     "data": {
      "text/html": [
       "<div>\n",
       "<style scoped>\n",
       "    .dataframe tbody tr th:only-of-type {\n",
       "        vertical-align: middle;\n",
       "    }\n",
       "\n",
       "    .dataframe tbody tr th {\n",
       "        vertical-align: top;\n",
       "    }\n",
       "\n",
       "    .dataframe thead th {\n",
       "        text-align: right;\n",
       "    }\n",
       "</style>\n",
       "<table border=\"1\" class=\"dataframe\">\n",
       "  <thead>\n",
       "    <tr style=\"text-align: right;\">\n",
       "      <th></th>\n",
       "      <th>A</th>\n",
       "      <th>B</th>\n",
       "      <th>C</th>\n",
       "    </tr>\n",
       "  </thead>\n",
       "  <tbody>\n",
       "    <tr>\n",
       "      <th>0</th>\n",
       "      <td>John</td>\n",
       "      <td>Masters</td>\n",
       "      <td>27</td>\n",
       "    </tr>\n",
       "    <tr>\n",
       "      <th>1</th>\n",
       "      <td>Boby</td>\n",
       "      <td>Graduate</td>\n",
       "      <td>23</td>\n",
       "    </tr>\n",
       "    <tr>\n",
       "      <th>2</th>\n",
       "      <td>Mina</td>\n",
       "      <td>Graduate</td>\n",
       "      <td>21</td>\n",
       "    </tr>\n",
       "  </tbody>\n",
       "</table>\n",
       "</div>"
      ],
      "text/plain": [
       "      A         B   C\n",
       "0  John   Masters  27\n",
       "1  Boby  Graduate  23\n",
       "2  Mina  Graduate  21"
      ]
     },
     "execution_count": 13,
     "metadata": {},
     "output_type": "execute_result"
    }
   ],
   "source": [
    "# importing pandas as pd \n",
    "import pandas as pd \n",
    "  \n",
    "# creating a dataframe \n",
    "df = pd.DataFrame({'A': ['John', 'Boby', 'Mina'], \n",
    "                   'B': ['Masters', 'Graduate', 'Graduate'], \n",
    "                   'C': [27, 23, 21]})\n",
    "df"
   ]
  },
  {
   "cell_type": "code",
   "execution_count": 16,
   "id": "bec83304-6266-4b4a-bc52-9a2dbc15c19b",
   "metadata": {},
   "outputs": [
    {
     "data": {
      "text/html": [
       "<div>\n",
       "<style scoped>\n",
       "    .dataframe tbody tr th:only-of-type {\n",
       "        vertical-align: middle;\n",
       "    }\n",
       "\n",
       "    .dataframe tbody tr th {\n",
       "        vertical-align: top;\n",
       "    }\n",
       "\n",
       "    .dataframe thead th {\n",
       "        text-align: right;\n",
       "    }\n",
       "</style>\n",
       "<table border=\"1\" class=\"dataframe\">\n",
       "  <thead>\n",
       "    <tr style=\"text-align: right;\">\n",
       "      <th>B</th>\n",
       "      <th>Graduate</th>\n",
       "      <th>Masters</th>\n",
       "    </tr>\n",
       "    <tr>\n",
       "      <th>A</th>\n",
       "      <th></th>\n",
       "      <th></th>\n",
       "    </tr>\n",
       "  </thead>\n",
       "  <tbody>\n",
       "    <tr>\n",
       "      <th>Boby</th>\n",
       "      <td>23.0</td>\n",
       "      <td>NaN</td>\n",
       "    </tr>\n",
       "    <tr>\n",
       "      <th>John</th>\n",
       "      <td>NaN</td>\n",
       "      <td>27.0</td>\n",
       "    </tr>\n",
       "    <tr>\n",
       "      <th>Mina</th>\n",
       "      <td>21.0</td>\n",
       "      <td>NaN</td>\n",
       "    </tr>\n",
       "  </tbody>\n",
       "</table>\n",
       "</div>"
      ],
      "text/plain": [
       "B     Graduate  Masters\n",
       "A                      \n",
       "Boby      23.0      NaN\n",
       "John       NaN     27.0\n",
       "Mina      21.0      NaN"
      ]
     },
     "execution_count": 16,
     "metadata": {},
     "output_type": "execute_result"
    }
   ],
   "source": [
    "# values can be an object or a list \n",
    "df.pivot(index='A', columns='B', values='C') "
   ]
  },
  {
   "cell_type": "code",
   "execution_count": 15,
   "id": "39e3255c-cba7-457a-af12-89e89f8a683e",
   "metadata": {},
   "outputs": [
    {
     "data": {
      "text/html": [
       "<div>\n",
       "<style scoped>\n",
       "    .dataframe tbody tr th:only-of-type {\n",
       "        vertical-align: middle;\n",
       "    }\n",
       "\n",
       "    .dataframe tbody tr th {\n",
       "        vertical-align: top;\n",
       "    }\n",
       "\n",
       "    .dataframe thead tr th {\n",
       "        text-align: left;\n",
       "    }\n",
       "\n",
       "    .dataframe thead tr:last-of-type th {\n",
       "        text-align: right;\n",
       "    }\n",
       "</style>\n",
       "<table border=\"1\" class=\"dataframe\">\n",
       "  <thead>\n",
       "    <tr>\n",
       "      <th></th>\n",
       "      <th colspan=\"2\" halign=\"left\">C</th>\n",
       "      <th colspan=\"2\" halign=\"left\">A</th>\n",
       "    </tr>\n",
       "    <tr>\n",
       "      <th>B</th>\n",
       "      <th>Graduate</th>\n",
       "      <th>Masters</th>\n",
       "      <th>Graduate</th>\n",
       "      <th>Masters</th>\n",
       "    </tr>\n",
       "    <tr>\n",
       "      <th>A</th>\n",
       "      <th></th>\n",
       "      <th></th>\n",
       "      <th></th>\n",
       "      <th></th>\n",
       "    </tr>\n",
       "  </thead>\n",
       "  <tbody>\n",
       "    <tr>\n",
       "      <th>Boby</th>\n",
       "      <td>23</td>\n",
       "      <td>NaN</td>\n",
       "      <td>Boby</td>\n",
       "      <td>NaN</td>\n",
       "    </tr>\n",
       "    <tr>\n",
       "      <th>John</th>\n",
       "      <td>NaN</td>\n",
       "      <td>27</td>\n",
       "      <td>NaN</td>\n",
       "      <td>John</td>\n",
       "    </tr>\n",
       "    <tr>\n",
       "      <th>Mina</th>\n",
       "      <td>21</td>\n",
       "      <td>NaN</td>\n",
       "      <td>Mina</td>\n",
       "      <td>NaN</td>\n",
       "    </tr>\n",
       "  </tbody>\n",
       "</table>\n",
       "</div>"
      ],
      "text/plain": [
       "            C                A        \n",
       "B    Graduate Masters Graduate Masters\n",
       "A                                     \n",
       "Boby       23     NaN     Boby     NaN\n",
       "John      NaN      27      NaN    John\n",
       "Mina       21     NaN     Mina     NaN"
      ]
     },
     "execution_count": 15,
     "metadata": {},
     "output_type": "execute_result"
    }
   ],
   "source": [
    "# value is a list \n",
    "df.pivot(index='A', columns='B', values=['C', 'A'])"
   ]
  },
  {
   "cell_type": "code",
   "execution_count": null,
   "id": "b6754652-a9e2-4697-9018-038efb315be9",
   "metadata": {},
   "outputs": [],
   "source": []
  }
 ],
 "metadata": {
  "kernelspec": {
   "display_name": "Python 3 (ipykernel)",
   "language": "python",
   "name": "python3"
  },
  "language_info": {
   "codemirror_mode": {
    "name": "ipython",
    "version": 3
   },
   "file_extension": ".py",
   "mimetype": "text/x-python",
   "name": "python",
   "nbconvert_exporter": "python",
   "pygments_lexer": "ipython3",
   "version": "3.11.5"
  }
 },
 "nbformat": 4,
 "nbformat_minor": 5
}
